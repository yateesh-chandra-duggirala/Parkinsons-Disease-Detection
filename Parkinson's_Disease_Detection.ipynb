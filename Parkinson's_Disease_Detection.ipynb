{
  "nbformat": 4,
  "nbformat_minor": 0,
  "metadata": {
    "colab": {
      "provenance": [],
      "collapsed_sections": [
        "9B5Zl1UOBMAJ",
        "PZm-USrtB_q4",
        "CSHvYJj4uDoc",
        "We7sRYu7Gc4q",
        "WDeqEaaHHBAS",
        "ACsXtFTGIFU-",
        "QIOAtx35JUMg",
        "UME-6LJnKusK",
        "1z_-nZfuLJrH",
        "dFe5VNnTIQ3V",
        "Rj3XAnF8LMF4",
        "YYKSnq8oTgHR",
        "w35T485j6FKO",
        "36OHBpHW6FKS",
        "W2cvL4no6FKS",
        "0Ub_zEtq6FKU",
        "Xfii3k0UT_SP",
        "Q0Ch7VcgXw-H",
        "UhbDfbKrYZj2",
        "JvaC664cYZj2",
        "mJLnRU9mYZj3",
        "QlR4JG4YMfOR",
        "q0SEldosb14m",
        "wFp37gTy7imQ",
        "R5pxJwP_emQ4"
      ],
      "gpuType": "T4"
    },
    "kernelspec": {
      "name": "python3",
      "display_name": "Python 3"
    },
    "language_info": {
      "name": "python"
    },
    "accelerator": "GPU",
    "gpuClass": "standard"
  },
  "cells": [
    {
      "cell_type": "markdown",
      "metadata": {
        "id": "9B5Zl1UOBMAJ"
      },
      "source": [
        "#Importing the Libraries"
      ]
    },
    {
      "cell_type": "code",
      "metadata": {
        "id": "YOCpZ1Vm6cfW"
      },
      "source": [
        "import numpy as np\n",
        "import pandas as pd\n",
        "import matplotlib.pyplot as plt\n",
        "from sklearn.model_selection import train_test_split\n",
        "from sklearn.preprocessing import MinMaxScaler\n",
        "from sklearn import svm\n",
        "from sklearn.metrics import accuracy_score\n",
        "import warnings\n",
        "warnings.filterwarnings('ignore')\n",
        "import seaborn as sns"
      ],
      "execution_count": 72,
      "outputs": []
    },
    {
      "cell_type": "code",
      "source": [
        "from keras.utils.np_utils import to_categorical\n",
        "from keras.models import Sequential\n",
        "from keras.layers import Dense,Conv1D, MaxPooling1D, Flatten, Dense\n",
        "from keras.preprocessing.image import ImageDataGenerator\n",
        "from tensorflow.keras.optimizers import Adam\n",
        "from sklearn.model_selection import train_test_split"
      ],
      "metadata": {
        "id": "U0V0z9IzVYDg"
      },
      "execution_count": 114,
      "outputs": []
    },
    {
      "cell_type": "markdown",
      "metadata": {
        "id": "PZm-USrtB_q4"
      },
      "source": [
        "#Data Collection & Analysis"
      ]
    },
    {
      "cell_type": "code",
      "metadata": {
        "id": "5YC2lGuVBiZA"
      },
      "source": [
        "# loading the data from csv file to a Pandas DataFrame\n",
        "parkinsons_data = pd.read_csv('/content/drive/MyDrive/My project/parkinsons.csv')"
      ],
      "execution_count": 74,
      "outputs": []
    },
    {
      "cell_type": "code",
      "metadata": {
        "id": "Iw8z6w60Djd2",
        "colab": {
          "base_uri": "https://localhost:8080/",
          "height": 300
        },
        "outputId": "2ac6b85f-8286-48e7-dbc8-218b2071294c"
      },
      "source": [
        "# printing the first 5 rows of the dataframe\n",
        "parkinsons_data.head()"
      ],
      "execution_count": 75,
      "outputs": [
        {
          "output_type": "execute_result",
          "data": {
            "text/plain": [
              "             name  MDVP:Fo(Hz)  MDVP:Fhi(Hz)  MDVP:Flo(Hz)  MDVP:Jitter(%)  \\\n",
              "0  phon_R01_S01_1      119.992       157.302        74.997         0.00784   \n",
              "1  phon_R01_S01_2      122.400       148.650       113.819         0.00968   \n",
              "2  phon_R01_S01_3      116.682       131.111       111.555         0.01050   \n",
              "3  phon_R01_S01_4      116.676       137.871       111.366         0.00997   \n",
              "4  phon_R01_S01_5      116.014       141.781       110.655         0.01284   \n",
              "\n",
              "   MDVP:Jitter(Abs)  MDVP:RAP  MDVP:PPQ  Jitter:DDP  MDVP:Shimmer  ...  \\\n",
              "0           0.00007   0.00370   0.00554     0.01109       0.04374  ...   \n",
              "1           0.00008   0.00465   0.00696     0.01394       0.06134  ...   \n",
              "2           0.00009   0.00544   0.00781     0.01633       0.05233  ...   \n",
              "3           0.00009   0.00502   0.00698     0.01505       0.05492  ...   \n",
              "4           0.00011   0.00655   0.00908     0.01966       0.06425  ...   \n",
              "\n",
              "   Shimmer:DDA      NHR     HNR  status      RPDE       DFA   spread1  \\\n",
              "0      0.06545  0.02211  21.033       1  0.414783  0.815285 -4.813031   \n",
              "1      0.09403  0.01929  19.085       1  0.458359  0.819521 -4.075192   \n",
              "2      0.08270  0.01309  20.651       1  0.429895  0.825288 -4.443179   \n",
              "3      0.08771  0.01353  20.644       1  0.434969  0.819235 -4.117501   \n",
              "4      0.10470  0.01767  19.649       1  0.417356  0.823484 -3.747787   \n",
              "\n",
              "    spread2        D2       PPE  \n",
              "0  0.266482  2.301442  0.284654  \n",
              "1  0.335590  2.486855  0.368674  \n",
              "2  0.311173  2.342259  0.332634  \n",
              "3  0.334147  2.405554  0.368975  \n",
              "4  0.234513  2.332180  0.410335  \n",
              "\n",
              "[5 rows x 24 columns]"
            ],
            "text/html": [
              "\n",
              "  <div id=\"df-547ffaf7-55e9-41ac-922d-49a3e42db6cc\">\n",
              "    <div class=\"colab-df-container\">\n",
              "      <div>\n",
              "<style scoped>\n",
              "    .dataframe tbody tr th:only-of-type {\n",
              "        vertical-align: middle;\n",
              "    }\n",
              "\n",
              "    .dataframe tbody tr th {\n",
              "        vertical-align: top;\n",
              "    }\n",
              "\n",
              "    .dataframe thead th {\n",
              "        text-align: right;\n",
              "    }\n",
              "</style>\n",
              "<table border=\"1\" class=\"dataframe\">\n",
              "  <thead>\n",
              "    <tr style=\"text-align: right;\">\n",
              "      <th></th>\n",
              "      <th>name</th>\n",
              "      <th>MDVP:Fo(Hz)</th>\n",
              "      <th>MDVP:Fhi(Hz)</th>\n",
              "      <th>MDVP:Flo(Hz)</th>\n",
              "      <th>MDVP:Jitter(%)</th>\n",
              "      <th>MDVP:Jitter(Abs)</th>\n",
              "      <th>MDVP:RAP</th>\n",
              "      <th>MDVP:PPQ</th>\n",
              "      <th>Jitter:DDP</th>\n",
              "      <th>MDVP:Shimmer</th>\n",
              "      <th>...</th>\n",
              "      <th>Shimmer:DDA</th>\n",
              "      <th>NHR</th>\n",
              "      <th>HNR</th>\n",
              "      <th>status</th>\n",
              "      <th>RPDE</th>\n",
              "      <th>DFA</th>\n",
              "      <th>spread1</th>\n",
              "      <th>spread2</th>\n",
              "      <th>D2</th>\n",
              "      <th>PPE</th>\n",
              "    </tr>\n",
              "  </thead>\n",
              "  <tbody>\n",
              "    <tr>\n",
              "      <th>0</th>\n",
              "      <td>phon_R01_S01_1</td>\n",
              "      <td>119.992</td>\n",
              "      <td>157.302</td>\n",
              "      <td>74.997</td>\n",
              "      <td>0.00784</td>\n",
              "      <td>0.00007</td>\n",
              "      <td>0.00370</td>\n",
              "      <td>0.00554</td>\n",
              "      <td>0.01109</td>\n",
              "      <td>0.04374</td>\n",
              "      <td>...</td>\n",
              "      <td>0.06545</td>\n",
              "      <td>0.02211</td>\n",
              "      <td>21.033</td>\n",
              "      <td>1</td>\n",
              "      <td>0.414783</td>\n",
              "      <td>0.815285</td>\n",
              "      <td>-4.813031</td>\n",
              "      <td>0.266482</td>\n",
              "      <td>2.301442</td>\n",
              "      <td>0.284654</td>\n",
              "    </tr>\n",
              "    <tr>\n",
              "      <th>1</th>\n",
              "      <td>phon_R01_S01_2</td>\n",
              "      <td>122.400</td>\n",
              "      <td>148.650</td>\n",
              "      <td>113.819</td>\n",
              "      <td>0.00968</td>\n",
              "      <td>0.00008</td>\n",
              "      <td>0.00465</td>\n",
              "      <td>0.00696</td>\n",
              "      <td>0.01394</td>\n",
              "      <td>0.06134</td>\n",
              "      <td>...</td>\n",
              "      <td>0.09403</td>\n",
              "      <td>0.01929</td>\n",
              "      <td>19.085</td>\n",
              "      <td>1</td>\n",
              "      <td>0.458359</td>\n",
              "      <td>0.819521</td>\n",
              "      <td>-4.075192</td>\n",
              "      <td>0.335590</td>\n",
              "      <td>2.486855</td>\n",
              "      <td>0.368674</td>\n",
              "    </tr>\n",
              "    <tr>\n",
              "      <th>2</th>\n",
              "      <td>phon_R01_S01_3</td>\n",
              "      <td>116.682</td>\n",
              "      <td>131.111</td>\n",
              "      <td>111.555</td>\n",
              "      <td>0.01050</td>\n",
              "      <td>0.00009</td>\n",
              "      <td>0.00544</td>\n",
              "      <td>0.00781</td>\n",
              "      <td>0.01633</td>\n",
              "      <td>0.05233</td>\n",
              "      <td>...</td>\n",
              "      <td>0.08270</td>\n",
              "      <td>0.01309</td>\n",
              "      <td>20.651</td>\n",
              "      <td>1</td>\n",
              "      <td>0.429895</td>\n",
              "      <td>0.825288</td>\n",
              "      <td>-4.443179</td>\n",
              "      <td>0.311173</td>\n",
              "      <td>2.342259</td>\n",
              "      <td>0.332634</td>\n",
              "    </tr>\n",
              "    <tr>\n",
              "      <th>3</th>\n",
              "      <td>phon_R01_S01_4</td>\n",
              "      <td>116.676</td>\n",
              "      <td>137.871</td>\n",
              "      <td>111.366</td>\n",
              "      <td>0.00997</td>\n",
              "      <td>0.00009</td>\n",
              "      <td>0.00502</td>\n",
              "      <td>0.00698</td>\n",
              "      <td>0.01505</td>\n",
              "      <td>0.05492</td>\n",
              "      <td>...</td>\n",
              "      <td>0.08771</td>\n",
              "      <td>0.01353</td>\n",
              "      <td>20.644</td>\n",
              "      <td>1</td>\n",
              "      <td>0.434969</td>\n",
              "      <td>0.819235</td>\n",
              "      <td>-4.117501</td>\n",
              "      <td>0.334147</td>\n",
              "      <td>2.405554</td>\n",
              "      <td>0.368975</td>\n",
              "    </tr>\n",
              "    <tr>\n",
              "      <th>4</th>\n",
              "      <td>phon_R01_S01_5</td>\n",
              "      <td>116.014</td>\n",
              "      <td>141.781</td>\n",
              "      <td>110.655</td>\n",
              "      <td>0.01284</td>\n",
              "      <td>0.00011</td>\n",
              "      <td>0.00655</td>\n",
              "      <td>0.00908</td>\n",
              "      <td>0.01966</td>\n",
              "      <td>0.06425</td>\n",
              "      <td>...</td>\n",
              "      <td>0.10470</td>\n",
              "      <td>0.01767</td>\n",
              "      <td>19.649</td>\n",
              "      <td>1</td>\n",
              "      <td>0.417356</td>\n",
              "      <td>0.823484</td>\n",
              "      <td>-3.747787</td>\n",
              "      <td>0.234513</td>\n",
              "      <td>2.332180</td>\n",
              "      <td>0.410335</td>\n",
              "    </tr>\n",
              "  </tbody>\n",
              "</table>\n",
              "<p>5 rows × 24 columns</p>\n",
              "</div>\n",
              "      <button class=\"colab-df-convert\" onclick=\"convertToInteractive('df-547ffaf7-55e9-41ac-922d-49a3e42db6cc')\"\n",
              "              title=\"Convert this dataframe to an interactive table.\"\n",
              "              style=\"display:none;\">\n",
              "        \n",
              "  <svg xmlns=\"http://www.w3.org/2000/svg\" height=\"24px\"viewBox=\"0 0 24 24\"\n",
              "       width=\"24px\">\n",
              "    <path d=\"M0 0h24v24H0V0z\" fill=\"none\"/>\n",
              "    <path d=\"M18.56 5.44l.94 2.06.94-2.06 2.06-.94-2.06-.94-.94-2.06-.94 2.06-2.06.94zm-11 1L8.5 8.5l.94-2.06 2.06-.94-2.06-.94L8.5 2.5l-.94 2.06-2.06.94zm10 10l.94 2.06.94-2.06 2.06-.94-2.06-.94-.94-2.06-.94 2.06-2.06.94z\"/><path d=\"M17.41 7.96l-1.37-1.37c-.4-.4-.92-.59-1.43-.59-.52 0-1.04.2-1.43.59L10.3 9.45l-7.72 7.72c-.78.78-.78 2.05 0 2.83L4 21.41c.39.39.9.59 1.41.59.51 0 1.02-.2 1.41-.59l7.78-7.78 2.81-2.81c.8-.78.8-2.07 0-2.86zM5.41 20L4 18.59l7.72-7.72 1.47 1.35L5.41 20z\"/>\n",
              "  </svg>\n",
              "      </button>\n",
              "      \n",
              "  <style>\n",
              "    .colab-df-container {\n",
              "      display:flex;\n",
              "      flex-wrap:wrap;\n",
              "      gap: 12px;\n",
              "    }\n",
              "\n",
              "    .colab-df-convert {\n",
              "      background-color: #E8F0FE;\n",
              "      border: none;\n",
              "      border-radius: 50%;\n",
              "      cursor: pointer;\n",
              "      display: none;\n",
              "      fill: #1967D2;\n",
              "      height: 32px;\n",
              "      padding: 0 0 0 0;\n",
              "      width: 32px;\n",
              "    }\n",
              "\n",
              "    .colab-df-convert:hover {\n",
              "      background-color: #E2EBFA;\n",
              "      box-shadow: 0px 1px 2px rgba(60, 64, 67, 0.3), 0px 1px 3px 1px rgba(60, 64, 67, 0.15);\n",
              "      fill: #174EA6;\n",
              "    }\n",
              "\n",
              "    [theme=dark] .colab-df-convert {\n",
              "      background-color: #3B4455;\n",
              "      fill: #D2E3FC;\n",
              "    }\n",
              "\n",
              "    [theme=dark] .colab-df-convert:hover {\n",
              "      background-color: #434B5C;\n",
              "      box-shadow: 0px 1px 3px 1px rgba(0, 0, 0, 0.15);\n",
              "      filter: drop-shadow(0px 1px 2px rgba(0, 0, 0, 0.3));\n",
              "      fill: #FFFFFF;\n",
              "    }\n",
              "  </style>\n",
              "\n",
              "      <script>\n",
              "        const buttonEl =\n",
              "          document.querySelector('#df-547ffaf7-55e9-41ac-922d-49a3e42db6cc button.colab-df-convert');\n",
              "        buttonEl.style.display =\n",
              "          google.colab.kernel.accessAllowed ? 'block' : 'none';\n",
              "\n",
              "        async function convertToInteractive(key) {\n",
              "          const element = document.querySelector('#df-547ffaf7-55e9-41ac-922d-49a3e42db6cc');\n",
              "          const dataTable =\n",
              "            await google.colab.kernel.invokeFunction('convertToInteractive',\n",
              "                                                     [key], {});\n",
              "          if (!dataTable) return;\n",
              "\n",
              "          const docLinkHtml = 'Like what you see? Visit the ' +\n",
              "            '<a target=\"_blank\" href=https://colab.research.google.com/notebooks/data_table.ipynb>data table notebook</a>'\n",
              "            + ' to learn more about interactive tables.';\n",
              "          element.innerHTML = '';\n",
              "          dataTable['output_type'] = 'display_data';\n",
              "          await google.colab.output.renderOutput(dataTable, element);\n",
              "          const docLink = document.createElement('div');\n",
              "          docLink.innerHTML = docLinkHtml;\n",
              "          element.appendChild(docLink);\n",
              "        }\n",
              "      </script>\n",
              "    </div>\n",
              "  </div>\n",
              "  "
            ]
          },
          "metadata": {},
          "execution_count": 75
        }
      ]
    },
    {
      "cell_type": "code",
      "metadata": {
        "id": "cK7L_o2TDuZb",
        "colab": {
          "base_uri": "https://localhost:8080/"
        },
        "outputId": "0dac1e2c-1f59-4e00-8283-b6905a7e5c79"
      },
      "source": [
        "# number of rows and columns in the dataframe\n",
        "parkinsons_data.shape"
      ],
      "execution_count": 76,
      "outputs": [
        {
          "output_type": "execute_result",
          "data": {
            "text/plain": [
              "(195, 24)"
            ]
          },
          "metadata": {},
          "execution_count": 76
        }
      ]
    },
    {
      "cell_type": "code",
      "metadata": {
        "id": "NLmzHIgnEGi4",
        "colab": {
          "base_uri": "https://localhost:8080/"
        },
        "outputId": "d6bd9217-ad61-4022-aab7-887170ff1a27"
      },
      "source": [
        "# getting more information about the dataset\n",
        "parkinsons_data.info()"
      ],
      "execution_count": 77,
      "outputs": [
        {
          "output_type": "stream",
          "name": "stdout",
          "text": [
            "<class 'pandas.core.frame.DataFrame'>\n",
            "RangeIndex: 195 entries, 0 to 194\n",
            "Data columns (total 24 columns):\n",
            " #   Column            Non-Null Count  Dtype  \n",
            "---  ------            --------------  -----  \n",
            " 0   name              195 non-null    object \n",
            " 1   MDVP:Fo(Hz)       195 non-null    float64\n",
            " 2   MDVP:Fhi(Hz)      195 non-null    float64\n",
            " 3   MDVP:Flo(Hz)      195 non-null    float64\n",
            " 4   MDVP:Jitter(%)    195 non-null    float64\n",
            " 5   MDVP:Jitter(Abs)  195 non-null    float64\n",
            " 6   MDVP:RAP          195 non-null    float64\n",
            " 7   MDVP:PPQ          195 non-null    float64\n",
            " 8   Jitter:DDP        195 non-null    float64\n",
            " 9   MDVP:Shimmer      195 non-null    float64\n",
            " 10  MDVP:Shimmer(dB)  195 non-null    float64\n",
            " 11  Shimmer:APQ3      195 non-null    float64\n",
            " 12  Shimmer:APQ5      195 non-null    float64\n",
            " 13  MDVP:APQ          195 non-null    float64\n",
            " 14  Shimmer:DDA       195 non-null    float64\n",
            " 15  NHR               195 non-null    float64\n",
            " 16  HNR               195 non-null    float64\n",
            " 17  status            195 non-null    int64  \n",
            " 18  RPDE              195 non-null    float64\n",
            " 19  DFA               195 non-null    float64\n",
            " 20  spread1           195 non-null    float64\n",
            " 21  spread2           195 non-null    float64\n",
            " 22  D2                195 non-null    float64\n",
            " 23  PPE               195 non-null    float64\n",
            "dtypes: float64(22), int64(1), object(1)\n",
            "memory usage: 36.7+ KB\n"
          ]
        }
      ]
    },
    {
      "cell_type": "code",
      "metadata": {
        "id": "70rgu_k4ET9F",
        "colab": {
          "base_uri": "https://localhost:8080/"
        },
        "outputId": "9845779b-f9a7-4825-a08c-66fe7944bda3"
      },
      "source": [
        "# checking for missing values in each column\n",
        "parkinsons_data.isnull().sum()"
      ],
      "execution_count": 78,
      "outputs": [
        {
          "output_type": "execute_result",
          "data": {
            "text/plain": [
              "name                0\n",
              "MDVP:Fo(Hz)         0\n",
              "MDVP:Fhi(Hz)        0\n",
              "MDVP:Flo(Hz)        0\n",
              "MDVP:Jitter(%)      0\n",
              "MDVP:Jitter(Abs)    0\n",
              "MDVP:RAP            0\n",
              "MDVP:PPQ            0\n",
              "Jitter:DDP          0\n",
              "MDVP:Shimmer        0\n",
              "MDVP:Shimmer(dB)    0\n",
              "Shimmer:APQ3        0\n",
              "Shimmer:APQ5        0\n",
              "MDVP:APQ            0\n",
              "Shimmer:DDA         0\n",
              "NHR                 0\n",
              "HNR                 0\n",
              "status              0\n",
              "RPDE                0\n",
              "DFA                 0\n",
              "spread1             0\n",
              "spread2             0\n",
              "D2                  0\n",
              "PPE                 0\n",
              "dtype: int64"
            ]
          },
          "metadata": {},
          "execution_count": 78
        }
      ]
    },
    {
      "cell_type": "code",
      "metadata": {
        "id": "1AxFu0-nEhSA",
        "colab": {
          "base_uri": "https://localhost:8080/",
          "height": 394
        },
        "outputId": "392f027f-7cdb-41dd-de5d-70385914e4b4"
      },
      "source": [
        "# getting some statistical measures about the data\n",
        "parkinsons_data.describe()"
      ],
      "execution_count": 79,
      "outputs": [
        {
          "output_type": "execute_result",
          "data": {
            "text/plain": [
              "       MDVP:Fo(Hz)  MDVP:Fhi(Hz)  MDVP:Flo(Hz)  MDVP:Jitter(%)  \\\n",
              "count   195.000000    195.000000    195.000000      195.000000   \n",
              "mean    154.228641    197.104918    116.324631        0.006220   \n",
              "std      41.390065     91.491548     43.521413        0.004848   \n",
              "min      88.333000    102.145000     65.476000        0.001680   \n",
              "25%     117.572000    134.862500     84.291000        0.003460   \n",
              "50%     148.790000    175.829000    104.315000        0.004940   \n",
              "75%     182.769000    224.205500    140.018500        0.007365   \n",
              "max     260.105000    592.030000    239.170000        0.033160   \n",
              "\n",
              "       MDVP:Jitter(Abs)    MDVP:RAP    MDVP:PPQ  Jitter:DDP  MDVP:Shimmer  \\\n",
              "count        195.000000  195.000000  195.000000  195.000000    195.000000   \n",
              "mean           0.000044    0.003306    0.003446    0.009920      0.029709   \n",
              "std            0.000035    0.002968    0.002759    0.008903      0.018857   \n",
              "min            0.000007    0.000680    0.000920    0.002040      0.009540   \n",
              "25%            0.000020    0.001660    0.001860    0.004985      0.016505   \n",
              "50%            0.000030    0.002500    0.002690    0.007490      0.022970   \n",
              "75%            0.000060    0.003835    0.003955    0.011505      0.037885   \n",
              "max            0.000260    0.021440    0.019580    0.064330      0.119080   \n",
              "\n",
              "       MDVP:Shimmer(dB)  ...  Shimmer:DDA         NHR         HNR      status  \\\n",
              "count        195.000000  ...   195.000000  195.000000  195.000000  195.000000   \n",
              "mean           0.282251  ...     0.046993    0.024847   21.885974    0.753846   \n",
              "std            0.194877  ...     0.030459    0.040418    4.425764    0.431878   \n",
              "min            0.085000  ...     0.013640    0.000650    8.441000    0.000000   \n",
              "25%            0.148500  ...     0.024735    0.005925   19.198000    1.000000   \n",
              "50%            0.221000  ...     0.038360    0.011660   22.085000    1.000000   \n",
              "75%            0.350000  ...     0.060795    0.025640   25.075500    1.000000   \n",
              "max            1.302000  ...     0.169420    0.314820   33.047000    1.000000   \n",
              "\n",
              "             RPDE         DFA     spread1     spread2          D2         PPE  \n",
              "count  195.000000  195.000000  195.000000  195.000000  195.000000  195.000000  \n",
              "mean     0.498536    0.718099   -5.684397    0.226510    2.381826    0.206552  \n",
              "std      0.103942    0.055336    1.090208    0.083406    0.382799    0.090119  \n",
              "min      0.256570    0.574282   -7.964984    0.006274    1.423287    0.044539  \n",
              "25%      0.421306    0.674758   -6.450096    0.174351    2.099125    0.137451  \n",
              "50%      0.495954    0.722254   -5.720868    0.218885    2.361532    0.194052  \n",
              "75%      0.587562    0.761881   -5.046192    0.279234    2.636456    0.252980  \n",
              "max      0.685151    0.825288   -2.434031    0.450493    3.671155    0.527367  \n",
              "\n",
              "[8 rows x 23 columns]"
            ],
            "text/html": [
              "\n",
              "  <div id=\"df-4880c3d5-0efe-4620-bd40-eb147a2b3936\">\n",
              "    <div class=\"colab-df-container\">\n",
              "      <div>\n",
              "<style scoped>\n",
              "    .dataframe tbody tr th:only-of-type {\n",
              "        vertical-align: middle;\n",
              "    }\n",
              "\n",
              "    .dataframe tbody tr th {\n",
              "        vertical-align: top;\n",
              "    }\n",
              "\n",
              "    .dataframe thead th {\n",
              "        text-align: right;\n",
              "    }\n",
              "</style>\n",
              "<table border=\"1\" class=\"dataframe\">\n",
              "  <thead>\n",
              "    <tr style=\"text-align: right;\">\n",
              "      <th></th>\n",
              "      <th>MDVP:Fo(Hz)</th>\n",
              "      <th>MDVP:Fhi(Hz)</th>\n",
              "      <th>MDVP:Flo(Hz)</th>\n",
              "      <th>MDVP:Jitter(%)</th>\n",
              "      <th>MDVP:Jitter(Abs)</th>\n",
              "      <th>MDVP:RAP</th>\n",
              "      <th>MDVP:PPQ</th>\n",
              "      <th>Jitter:DDP</th>\n",
              "      <th>MDVP:Shimmer</th>\n",
              "      <th>MDVP:Shimmer(dB)</th>\n",
              "      <th>...</th>\n",
              "      <th>Shimmer:DDA</th>\n",
              "      <th>NHR</th>\n",
              "      <th>HNR</th>\n",
              "      <th>status</th>\n",
              "      <th>RPDE</th>\n",
              "      <th>DFA</th>\n",
              "      <th>spread1</th>\n",
              "      <th>spread2</th>\n",
              "      <th>D2</th>\n",
              "      <th>PPE</th>\n",
              "    </tr>\n",
              "  </thead>\n",
              "  <tbody>\n",
              "    <tr>\n",
              "      <th>count</th>\n",
              "      <td>195.000000</td>\n",
              "      <td>195.000000</td>\n",
              "      <td>195.000000</td>\n",
              "      <td>195.000000</td>\n",
              "      <td>195.000000</td>\n",
              "      <td>195.000000</td>\n",
              "      <td>195.000000</td>\n",
              "      <td>195.000000</td>\n",
              "      <td>195.000000</td>\n",
              "      <td>195.000000</td>\n",
              "      <td>...</td>\n",
              "      <td>195.000000</td>\n",
              "      <td>195.000000</td>\n",
              "      <td>195.000000</td>\n",
              "      <td>195.000000</td>\n",
              "      <td>195.000000</td>\n",
              "      <td>195.000000</td>\n",
              "      <td>195.000000</td>\n",
              "      <td>195.000000</td>\n",
              "      <td>195.000000</td>\n",
              "      <td>195.000000</td>\n",
              "    </tr>\n",
              "    <tr>\n",
              "      <th>mean</th>\n",
              "      <td>154.228641</td>\n",
              "      <td>197.104918</td>\n",
              "      <td>116.324631</td>\n",
              "      <td>0.006220</td>\n",
              "      <td>0.000044</td>\n",
              "      <td>0.003306</td>\n",
              "      <td>0.003446</td>\n",
              "      <td>0.009920</td>\n",
              "      <td>0.029709</td>\n",
              "      <td>0.282251</td>\n",
              "      <td>...</td>\n",
              "      <td>0.046993</td>\n",
              "      <td>0.024847</td>\n",
              "      <td>21.885974</td>\n",
              "      <td>0.753846</td>\n",
              "      <td>0.498536</td>\n",
              "      <td>0.718099</td>\n",
              "      <td>-5.684397</td>\n",
              "      <td>0.226510</td>\n",
              "      <td>2.381826</td>\n",
              "      <td>0.206552</td>\n",
              "    </tr>\n",
              "    <tr>\n",
              "      <th>std</th>\n",
              "      <td>41.390065</td>\n",
              "      <td>91.491548</td>\n",
              "      <td>43.521413</td>\n",
              "      <td>0.004848</td>\n",
              "      <td>0.000035</td>\n",
              "      <td>0.002968</td>\n",
              "      <td>0.002759</td>\n",
              "      <td>0.008903</td>\n",
              "      <td>0.018857</td>\n",
              "      <td>0.194877</td>\n",
              "      <td>...</td>\n",
              "      <td>0.030459</td>\n",
              "      <td>0.040418</td>\n",
              "      <td>4.425764</td>\n",
              "      <td>0.431878</td>\n",
              "      <td>0.103942</td>\n",
              "      <td>0.055336</td>\n",
              "      <td>1.090208</td>\n",
              "      <td>0.083406</td>\n",
              "      <td>0.382799</td>\n",
              "      <td>0.090119</td>\n",
              "    </tr>\n",
              "    <tr>\n",
              "      <th>min</th>\n",
              "      <td>88.333000</td>\n",
              "      <td>102.145000</td>\n",
              "      <td>65.476000</td>\n",
              "      <td>0.001680</td>\n",
              "      <td>0.000007</td>\n",
              "      <td>0.000680</td>\n",
              "      <td>0.000920</td>\n",
              "      <td>0.002040</td>\n",
              "      <td>0.009540</td>\n",
              "      <td>0.085000</td>\n",
              "      <td>...</td>\n",
              "      <td>0.013640</td>\n",
              "      <td>0.000650</td>\n",
              "      <td>8.441000</td>\n",
              "      <td>0.000000</td>\n",
              "      <td>0.256570</td>\n",
              "      <td>0.574282</td>\n",
              "      <td>-7.964984</td>\n",
              "      <td>0.006274</td>\n",
              "      <td>1.423287</td>\n",
              "      <td>0.044539</td>\n",
              "    </tr>\n",
              "    <tr>\n",
              "      <th>25%</th>\n",
              "      <td>117.572000</td>\n",
              "      <td>134.862500</td>\n",
              "      <td>84.291000</td>\n",
              "      <td>0.003460</td>\n",
              "      <td>0.000020</td>\n",
              "      <td>0.001660</td>\n",
              "      <td>0.001860</td>\n",
              "      <td>0.004985</td>\n",
              "      <td>0.016505</td>\n",
              "      <td>0.148500</td>\n",
              "      <td>...</td>\n",
              "      <td>0.024735</td>\n",
              "      <td>0.005925</td>\n",
              "      <td>19.198000</td>\n",
              "      <td>1.000000</td>\n",
              "      <td>0.421306</td>\n",
              "      <td>0.674758</td>\n",
              "      <td>-6.450096</td>\n",
              "      <td>0.174351</td>\n",
              "      <td>2.099125</td>\n",
              "      <td>0.137451</td>\n",
              "    </tr>\n",
              "    <tr>\n",
              "      <th>50%</th>\n",
              "      <td>148.790000</td>\n",
              "      <td>175.829000</td>\n",
              "      <td>104.315000</td>\n",
              "      <td>0.004940</td>\n",
              "      <td>0.000030</td>\n",
              "      <td>0.002500</td>\n",
              "      <td>0.002690</td>\n",
              "      <td>0.007490</td>\n",
              "      <td>0.022970</td>\n",
              "      <td>0.221000</td>\n",
              "      <td>...</td>\n",
              "      <td>0.038360</td>\n",
              "      <td>0.011660</td>\n",
              "      <td>22.085000</td>\n",
              "      <td>1.000000</td>\n",
              "      <td>0.495954</td>\n",
              "      <td>0.722254</td>\n",
              "      <td>-5.720868</td>\n",
              "      <td>0.218885</td>\n",
              "      <td>2.361532</td>\n",
              "      <td>0.194052</td>\n",
              "    </tr>\n",
              "    <tr>\n",
              "      <th>75%</th>\n",
              "      <td>182.769000</td>\n",
              "      <td>224.205500</td>\n",
              "      <td>140.018500</td>\n",
              "      <td>0.007365</td>\n",
              "      <td>0.000060</td>\n",
              "      <td>0.003835</td>\n",
              "      <td>0.003955</td>\n",
              "      <td>0.011505</td>\n",
              "      <td>0.037885</td>\n",
              "      <td>0.350000</td>\n",
              "      <td>...</td>\n",
              "      <td>0.060795</td>\n",
              "      <td>0.025640</td>\n",
              "      <td>25.075500</td>\n",
              "      <td>1.000000</td>\n",
              "      <td>0.587562</td>\n",
              "      <td>0.761881</td>\n",
              "      <td>-5.046192</td>\n",
              "      <td>0.279234</td>\n",
              "      <td>2.636456</td>\n",
              "      <td>0.252980</td>\n",
              "    </tr>\n",
              "    <tr>\n",
              "      <th>max</th>\n",
              "      <td>260.105000</td>\n",
              "      <td>592.030000</td>\n",
              "      <td>239.170000</td>\n",
              "      <td>0.033160</td>\n",
              "      <td>0.000260</td>\n",
              "      <td>0.021440</td>\n",
              "      <td>0.019580</td>\n",
              "      <td>0.064330</td>\n",
              "      <td>0.119080</td>\n",
              "      <td>1.302000</td>\n",
              "      <td>...</td>\n",
              "      <td>0.169420</td>\n",
              "      <td>0.314820</td>\n",
              "      <td>33.047000</td>\n",
              "      <td>1.000000</td>\n",
              "      <td>0.685151</td>\n",
              "      <td>0.825288</td>\n",
              "      <td>-2.434031</td>\n",
              "      <td>0.450493</td>\n",
              "      <td>3.671155</td>\n",
              "      <td>0.527367</td>\n",
              "    </tr>\n",
              "  </tbody>\n",
              "</table>\n",
              "<p>8 rows × 23 columns</p>\n",
              "</div>\n",
              "      <button class=\"colab-df-convert\" onclick=\"convertToInteractive('df-4880c3d5-0efe-4620-bd40-eb147a2b3936')\"\n",
              "              title=\"Convert this dataframe to an interactive table.\"\n",
              "              style=\"display:none;\">\n",
              "        \n",
              "  <svg xmlns=\"http://www.w3.org/2000/svg\" height=\"24px\"viewBox=\"0 0 24 24\"\n",
              "       width=\"24px\">\n",
              "    <path d=\"M0 0h24v24H0V0z\" fill=\"none\"/>\n",
              "    <path d=\"M18.56 5.44l.94 2.06.94-2.06 2.06-.94-2.06-.94-.94-2.06-.94 2.06-2.06.94zm-11 1L8.5 8.5l.94-2.06 2.06-.94-2.06-.94L8.5 2.5l-.94 2.06-2.06.94zm10 10l.94 2.06.94-2.06 2.06-.94-2.06-.94-.94-2.06-.94 2.06-2.06.94z\"/><path d=\"M17.41 7.96l-1.37-1.37c-.4-.4-.92-.59-1.43-.59-.52 0-1.04.2-1.43.59L10.3 9.45l-7.72 7.72c-.78.78-.78 2.05 0 2.83L4 21.41c.39.39.9.59 1.41.59.51 0 1.02-.2 1.41-.59l7.78-7.78 2.81-2.81c.8-.78.8-2.07 0-2.86zM5.41 20L4 18.59l7.72-7.72 1.47 1.35L5.41 20z\"/>\n",
              "  </svg>\n",
              "      </button>\n",
              "      \n",
              "  <style>\n",
              "    .colab-df-container {\n",
              "      display:flex;\n",
              "      flex-wrap:wrap;\n",
              "      gap: 12px;\n",
              "    }\n",
              "\n",
              "    .colab-df-convert {\n",
              "      background-color: #E8F0FE;\n",
              "      border: none;\n",
              "      border-radius: 50%;\n",
              "      cursor: pointer;\n",
              "      display: none;\n",
              "      fill: #1967D2;\n",
              "      height: 32px;\n",
              "      padding: 0 0 0 0;\n",
              "      width: 32px;\n",
              "    }\n",
              "\n",
              "    .colab-df-convert:hover {\n",
              "      background-color: #E2EBFA;\n",
              "      box-shadow: 0px 1px 2px rgba(60, 64, 67, 0.3), 0px 1px 3px 1px rgba(60, 64, 67, 0.15);\n",
              "      fill: #174EA6;\n",
              "    }\n",
              "\n",
              "    [theme=dark] .colab-df-convert {\n",
              "      background-color: #3B4455;\n",
              "      fill: #D2E3FC;\n",
              "    }\n",
              "\n",
              "    [theme=dark] .colab-df-convert:hover {\n",
              "      background-color: #434B5C;\n",
              "      box-shadow: 0px 1px 3px 1px rgba(0, 0, 0, 0.15);\n",
              "      filter: drop-shadow(0px 1px 2px rgba(0, 0, 0, 0.3));\n",
              "      fill: #FFFFFF;\n",
              "    }\n",
              "  </style>\n",
              "\n",
              "      <script>\n",
              "        const buttonEl =\n",
              "          document.querySelector('#df-4880c3d5-0efe-4620-bd40-eb147a2b3936 button.colab-df-convert');\n",
              "        buttonEl.style.display =\n",
              "          google.colab.kernel.accessAllowed ? 'block' : 'none';\n",
              "\n",
              "        async function convertToInteractive(key) {\n",
              "          const element = document.querySelector('#df-4880c3d5-0efe-4620-bd40-eb147a2b3936');\n",
              "          const dataTable =\n",
              "            await google.colab.kernel.invokeFunction('convertToInteractive',\n",
              "                                                     [key], {});\n",
              "          if (!dataTable) return;\n",
              "\n",
              "          const docLinkHtml = 'Like what you see? Visit the ' +\n",
              "            '<a target=\"_blank\" href=https://colab.research.google.com/notebooks/data_table.ipynb>data table notebook</a>'\n",
              "            + ' to learn more about interactive tables.';\n",
              "          element.innerHTML = '';\n",
              "          dataTable['output_type'] = 'display_data';\n",
              "          await google.colab.output.renderOutput(dataTable, element);\n",
              "          const docLink = document.createElement('div');\n",
              "          docLink.innerHTML = docLinkHtml;\n",
              "          element.appendChild(docLink);\n",
              "        }\n",
              "      </script>\n",
              "    </div>\n",
              "  </div>\n",
              "  "
            ]
          },
          "metadata": {},
          "execution_count": 79
        }
      ]
    },
    {
      "cell_type": "code",
      "metadata": {
        "id": "3O8AclzwExyH",
        "colab": {
          "base_uri": "https://localhost:8080/"
        },
        "outputId": "5f5873b2-e56a-4cd3-e911-9f791487f4ce"
      },
      "source": [
        "# distribution of target Variable\n",
        "parkinsons_data['status'].value_counts()"
      ],
      "execution_count": 80,
      "outputs": [
        {
          "output_type": "execute_result",
          "data": {
            "text/plain": [
              "1    147\n",
              "0     48\n",
              "Name: status, dtype: int64"
            ]
          },
          "metadata": {},
          "execution_count": 80
        }
      ]
    },
    {
      "cell_type": "markdown",
      "metadata": {
        "id": "L1srlxtEFYfN"
      },
      "source": [
        "1  --> Parkinson's Positive\n",
        "\n",
        "0 --> Healthy\n"
      ]
    },
    {
      "cell_type": "code",
      "metadata": {
        "id": "zUrPan7CFTMq",
        "colab": {
          "base_uri": "https://localhost:8080/",
          "height": 237
        },
        "outputId": "cae0a532-7a74-4884-9afd-9fa22a65229d"
      },
      "source": [
        "\n",
        "# grouping the data bas3ed on the target variable\n",
        "parkinsons_data.groupby('status').mean()"
      ],
      "execution_count": 81,
      "outputs": [
        {
          "output_type": "execute_result",
          "data": {
            "text/plain": [
              "        MDVP:Fo(Hz)  MDVP:Fhi(Hz)  MDVP:Flo(Hz)  MDVP:Jitter(%)  \\\n",
              "status                                                            \n",
              "0        181.937771    223.636750    145.207292        0.003866   \n",
              "1        145.180762    188.441463    106.893558        0.006989   \n",
              "\n",
              "        MDVP:Jitter(Abs)  MDVP:RAP  MDVP:PPQ  Jitter:DDP  MDVP:Shimmer  \\\n",
              "status                                                                   \n",
              "0               0.000023  0.001925  0.002056    0.005776      0.017615   \n",
              "1               0.000051  0.003757  0.003900    0.011273      0.033658   \n",
              "\n",
              "        MDVP:Shimmer(dB)  ...  MDVP:APQ  Shimmer:DDA       NHR        HNR  \\\n",
              "status                    ...                                               \n",
              "0               0.162958  ...  0.013305     0.028511  0.011483  24.678750   \n",
              "1               0.321204  ...  0.027600     0.053027  0.029211  20.974048   \n",
              "\n",
              "            RPDE       DFA   spread1   spread2        D2       PPE  \n",
              "status                                                              \n",
              "0       0.442552  0.695716 -6.759264  0.160292  2.154491  0.123017  \n",
              "1       0.516816  0.725408 -5.333420  0.248133  2.456058  0.233828  \n",
              "\n",
              "[2 rows x 22 columns]"
            ],
            "text/html": [
              "\n",
              "  <div id=\"df-e0d81249-84b6-4d0c-beb1-f5ab45ff685c\">\n",
              "    <div class=\"colab-df-container\">\n",
              "      <div>\n",
              "<style scoped>\n",
              "    .dataframe tbody tr th:only-of-type {\n",
              "        vertical-align: middle;\n",
              "    }\n",
              "\n",
              "    .dataframe tbody tr th {\n",
              "        vertical-align: top;\n",
              "    }\n",
              "\n",
              "    .dataframe thead th {\n",
              "        text-align: right;\n",
              "    }\n",
              "</style>\n",
              "<table border=\"1\" class=\"dataframe\">\n",
              "  <thead>\n",
              "    <tr style=\"text-align: right;\">\n",
              "      <th></th>\n",
              "      <th>MDVP:Fo(Hz)</th>\n",
              "      <th>MDVP:Fhi(Hz)</th>\n",
              "      <th>MDVP:Flo(Hz)</th>\n",
              "      <th>MDVP:Jitter(%)</th>\n",
              "      <th>MDVP:Jitter(Abs)</th>\n",
              "      <th>MDVP:RAP</th>\n",
              "      <th>MDVP:PPQ</th>\n",
              "      <th>Jitter:DDP</th>\n",
              "      <th>MDVP:Shimmer</th>\n",
              "      <th>MDVP:Shimmer(dB)</th>\n",
              "      <th>...</th>\n",
              "      <th>MDVP:APQ</th>\n",
              "      <th>Shimmer:DDA</th>\n",
              "      <th>NHR</th>\n",
              "      <th>HNR</th>\n",
              "      <th>RPDE</th>\n",
              "      <th>DFA</th>\n",
              "      <th>spread1</th>\n",
              "      <th>spread2</th>\n",
              "      <th>D2</th>\n",
              "      <th>PPE</th>\n",
              "    </tr>\n",
              "    <tr>\n",
              "      <th>status</th>\n",
              "      <th></th>\n",
              "      <th></th>\n",
              "      <th></th>\n",
              "      <th></th>\n",
              "      <th></th>\n",
              "      <th></th>\n",
              "      <th></th>\n",
              "      <th></th>\n",
              "      <th></th>\n",
              "      <th></th>\n",
              "      <th></th>\n",
              "      <th></th>\n",
              "      <th></th>\n",
              "      <th></th>\n",
              "      <th></th>\n",
              "      <th></th>\n",
              "      <th></th>\n",
              "      <th></th>\n",
              "      <th></th>\n",
              "      <th></th>\n",
              "      <th></th>\n",
              "    </tr>\n",
              "  </thead>\n",
              "  <tbody>\n",
              "    <tr>\n",
              "      <th>0</th>\n",
              "      <td>181.937771</td>\n",
              "      <td>223.636750</td>\n",
              "      <td>145.207292</td>\n",
              "      <td>0.003866</td>\n",
              "      <td>0.000023</td>\n",
              "      <td>0.001925</td>\n",
              "      <td>0.002056</td>\n",
              "      <td>0.005776</td>\n",
              "      <td>0.017615</td>\n",
              "      <td>0.162958</td>\n",
              "      <td>...</td>\n",
              "      <td>0.013305</td>\n",
              "      <td>0.028511</td>\n",
              "      <td>0.011483</td>\n",
              "      <td>24.678750</td>\n",
              "      <td>0.442552</td>\n",
              "      <td>0.695716</td>\n",
              "      <td>-6.759264</td>\n",
              "      <td>0.160292</td>\n",
              "      <td>2.154491</td>\n",
              "      <td>0.123017</td>\n",
              "    </tr>\n",
              "    <tr>\n",
              "      <th>1</th>\n",
              "      <td>145.180762</td>\n",
              "      <td>188.441463</td>\n",
              "      <td>106.893558</td>\n",
              "      <td>0.006989</td>\n",
              "      <td>0.000051</td>\n",
              "      <td>0.003757</td>\n",
              "      <td>0.003900</td>\n",
              "      <td>0.011273</td>\n",
              "      <td>0.033658</td>\n",
              "      <td>0.321204</td>\n",
              "      <td>...</td>\n",
              "      <td>0.027600</td>\n",
              "      <td>0.053027</td>\n",
              "      <td>0.029211</td>\n",
              "      <td>20.974048</td>\n",
              "      <td>0.516816</td>\n",
              "      <td>0.725408</td>\n",
              "      <td>-5.333420</td>\n",
              "      <td>0.248133</td>\n",
              "      <td>2.456058</td>\n",
              "      <td>0.233828</td>\n",
              "    </tr>\n",
              "  </tbody>\n",
              "</table>\n",
              "<p>2 rows × 22 columns</p>\n",
              "</div>\n",
              "      <button class=\"colab-df-convert\" onclick=\"convertToInteractive('df-e0d81249-84b6-4d0c-beb1-f5ab45ff685c')\"\n",
              "              title=\"Convert this dataframe to an interactive table.\"\n",
              "              style=\"display:none;\">\n",
              "        \n",
              "  <svg xmlns=\"http://www.w3.org/2000/svg\" height=\"24px\"viewBox=\"0 0 24 24\"\n",
              "       width=\"24px\">\n",
              "    <path d=\"M0 0h24v24H0V0z\" fill=\"none\"/>\n",
              "    <path d=\"M18.56 5.44l.94 2.06.94-2.06 2.06-.94-2.06-.94-.94-2.06-.94 2.06-2.06.94zm-11 1L8.5 8.5l.94-2.06 2.06-.94-2.06-.94L8.5 2.5l-.94 2.06-2.06.94zm10 10l.94 2.06.94-2.06 2.06-.94-2.06-.94-.94-2.06-.94 2.06-2.06.94z\"/><path d=\"M17.41 7.96l-1.37-1.37c-.4-.4-.92-.59-1.43-.59-.52 0-1.04.2-1.43.59L10.3 9.45l-7.72 7.72c-.78.78-.78 2.05 0 2.83L4 21.41c.39.39.9.59 1.41.59.51 0 1.02-.2 1.41-.59l7.78-7.78 2.81-2.81c.8-.78.8-2.07 0-2.86zM5.41 20L4 18.59l7.72-7.72 1.47 1.35L5.41 20z\"/>\n",
              "  </svg>\n",
              "      </button>\n",
              "      \n",
              "  <style>\n",
              "    .colab-df-container {\n",
              "      display:flex;\n",
              "      flex-wrap:wrap;\n",
              "      gap: 12px;\n",
              "    }\n",
              "\n",
              "    .colab-df-convert {\n",
              "      background-color: #E8F0FE;\n",
              "      border: none;\n",
              "      border-radius: 50%;\n",
              "      cursor: pointer;\n",
              "      display: none;\n",
              "      fill: #1967D2;\n",
              "      height: 32px;\n",
              "      padding: 0 0 0 0;\n",
              "      width: 32px;\n",
              "    }\n",
              "\n",
              "    .colab-df-convert:hover {\n",
              "      background-color: #E2EBFA;\n",
              "      box-shadow: 0px 1px 2px rgba(60, 64, 67, 0.3), 0px 1px 3px 1px rgba(60, 64, 67, 0.15);\n",
              "      fill: #174EA6;\n",
              "    }\n",
              "\n",
              "    [theme=dark] .colab-df-convert {\n",
              "      background-color: #3B4455;\n",
              "      fill: #D2E3FC;\n",
              "    }\n",
              "\n",
              "    [theme=dark] .colab-df-convert:hover {\n",
              "      background-color: #434B5C;\n",
              "      box-shadow: 0px 1px 3px 1px rgba(0, 0, 0, 0.15);\n",
              "      filter: drop-shadow(0px 1px 2px rgba(0, 0, 0, 0.3));\n",
              "      fill: #FFFFFF;\n",
              "    }\n",
              "  </style>\n",
              "\n",
              "      <script>\n",
              "        const buttonEl =\n",
              "          document.querySelector('#df-e0d81249-84b6-4d0c-beb1-f5ab45ff685c button.colab-df-convert');\n",
              "        buttonEl.style.display =\n",
              "          google.colab.kernel.accessAllowed ? 'block' : 'none';\n",
              "\n",
              "        async function convertToInteractive(key) {\n",
              "          const element = document.querySelector('#df-e0d81249-84b6-4d0c-beb1-f5ab45ff685c');\n",
              "          const dataTable =\n",
              "            await google.colab.kernel.invokeFunction('convertToInteractive',\n",
              "                                                     [key], {});\n",
              "          if (!dataTable) return;\n",
              "\n",
              "          const docLinkHtml = 'Like what you see? Visit the ' +\n",
              "            '<a target=\"_blank\" href=https://colab.research.google.com/notebooks/data_table.ipynb>data table notebook</a>'\n",
              "            + ' to learn more about interactive tables.';\n",
              "          element.innerHTML = '';\n",
              "          dataTable['output_type'] = 'display_data';\n",
              "          await google.colab.output.renderOutput(dataTable, element);\n",
              "          const docLink = document.createElement('div');\n",
              "          docLink.innerHTML = docLinkHtml;\n",
              "          element.appendChild(docLink);\n",
              "        }\n",
              "      </script>\n",
              "    </div>\n",
              "  </div>\n",
              "  "
            ]
          },
          "metadata": {},
          "execution_count": 81
        }
      ]
    },
    {
      "cell_type": "code",
      "source": [
        "parkinsons_data.corr()"
      ],
      "metadata": {
        "colab": {
          "base_uri": "https://localhost:8080/",
          "height": 864
        },
        "id": "qgWrzK6zmxpw",
        "outputId": "07e477b0-7d7e-45c9-934c-2c7c65551986"
      },
      "execution_count": 82,
      "outputs": [
        {
          "output_type": "execute_result",
          "data": {
            "text/plain": [
              "                  MDVP:Fo(Hz)  MDVP:Fhi(Hz)  MDVP:Flo(Hz)  MDVP:Jitter(%)  \\\n",
              "MDVP:Fo(Hz)          1.000000      0.400985      0.596546       -0.118003   \n",
              "MDVP:Fhi(Hz)         0.400985      1.000000      0.084951        0.102086   \n",
              "MDVP:Flo(Hz)         0.596546      0.084951      1.000000       -0.139919   \n",
              "MDVP:Jitter(%)      -0.118003      0.102086     -0.139919        1.000000   \n",
              "MDVP:Jitter(Abs)    -0.382027     -0.029198     -0.277815        0.935714   \n",
              "MDVP:RAP            -0.076194      0.097177     -0.100519        0.990276   \n",
              "MDVP:PPQ            -0.112165      0.091126     -0.095828        0.974256   \n",
              "Jitter:DDP          -0.076213      0.097150     -0.100488        0.990276   \n",
              "MDVP:Shimmer        -0.098374      0.002281     -0.144543        0.769063   \n",
              "MDVP:Shimmer(dB)    -0.073742      0.043465     -0.119089        0.804289   \n",
              "Shimmer:APQ3        -0.094717     -0.003743     -0.150747        0.746625   \n",
              "Shimmer:APQ5        -0.070682     -0.009997     -0.101095        0.725561   \n",
              "MDVP:APQ            -0.077774      0.004937     -0.107293        0.758255   \n",
              "Shimmer:DDA         -0.094732     -0.003733     -0.150737        0.746635   \n",
              "NHR                 -0.021981      0.163766     -0.108670        0.906959   \n",
              "HNR                  0.059144     -0.024893      0.210851       -0.728165   \n",
              "status              -0.383535     -0.166136     -0.380200        0.278220   \n",
              "RPDE                -0.383894     -0.112404     -0.400143        0.360673   \n",
              "DFA                 -0.446013     -0.343097     -0.050406        0.098572   \n",
              "spread1             -0.413738     -0.076658     -0.394857        0.693577   \n",
              "spread2             -0.249450     -0.002954     -0.243829        0.385123   \n",
              "D2                   0.177980      0.176323     -0.100629        0.433434   \n",
              "PPE                 -0.372356     -0.069543     -0.340071        0.721543   \n",
              "\n",
              "                  MDVP:Jitter(Abs)  MDVP:RAP  MDVP:PPQ  Jitter:DDP  \\\n",
              "MDVP:Fo(Hz)              -0.382027 -0.076194 -0.112165   -0.076213   \n",
              "MDVP:Fhi(Hz)             -0.029198  0.097177  0.091126    0.097150   \n",
              "MDVP:Flo(Hz)             -0.277815 -0.100519 -0.095828   -0.100488   \n",
              "MDVP:Jitter(%)            0.935714  0.990276  0.974256    0.990276   \n",
              "MDVP:Jitter(Abs)          1.000000  0.922911  0.897778    0.922913   \n",
              "MDVP:RAP                  0.922911  1.000000  0.957317    1.000000   \n",
              "MDVP:PPQ                  0.897778  0.957317  1.000000    0.957319   \n",
              "Jitter:DDP                0.922913  1.000000  0.957319    1.000000   \n",
              "MDVP:Shimmer              0.703322  0.759581  0.797826    0.759555   \n",
              "MDVP:Shimmer(dB)          0.716601  0.790652  0.839239    0.790621   \n",
              "Shimmer:APQ3              0.697153  0.744912  0.763580    0.744894   \n",
              "Shimmer:APQ5              0.648961  0.709927  0.786780    0.709907   \n",
              "MDVP:APQ                  0.648793  0.737455  0.804139    0.737439   \n",
              "Shimmer:DDA               0.697170  0.744919  0.763592    0.744901   \n",
              "NHR                       0.834972  0.919521  0.844604    0.919548   \n",
              "HNR                      -0.656810 -0.721543 -0.731510   -0.721494   \n",
              "status                    0.338653  0.266668  0.288698    0.266646   \n",
              "RPDE                      0.441839  0.342140  0.333274    0.342079   \n",
              "DFA                       0.175036  0.064083  0.196301    0.064026   \n",
              "spread1                   0.735779  0.648328  0.716489    0.648328   \n",
              "spread2                   0.388543  0.324407  0.407605    0.324377   \n",
              "D2                        0.310694  0.426605  0.412524    0.426556   \n",
              "PPE                       0.748162  0.670999  0.769647    0.671005   \n",
              "\n",
              "                  MDVP:Shimmer  MDVP:Shimmer(dB)  ...  Shimmer:DDA       NHR  \\\n",
              "MDVP:Fo(Hz)          -0.098374         -0.073742  ...    -0.094732 -0.021981   \n",
              "MDVP:Fhi(Hz)          0.002281          0.043465  ...    -0.003733  0.163766   \n",
              "MDVP:Flo(Hz)         -0.144543         -0.119089  ...    -0.150737 -0.108670   \n",
              "MDVP:Jitter(%)        0.769063          0.804289  ...     0.746635  0.906959   \n",
              "MDVP:Jitter(Abs)      0.703322          0.716601  ...     0.697170  0.834972   \n",
              "MDVP:RAP              0.759581          0.790652  ...     0.744919  0.919521   \n",
              "MDVP:PPQ              0.797826          0.839239  ...     0.763592  0.844604   \n",
              "Jitter:DDP            0.759555          0.790621  ...     0.744901  0.919548   \n",
              "MDVP:Shimmer          1.000000          0.987258  ...     0.987626  0.722194   \n",
              "MDVP:Shimmer(dB)      0.987258          1.000000  ...     0.963202  0.744477   \n",
              "Shimmer:APQ3          0.987625          0.963198  ...     1.000000  0.716207   \n",
              "Shimmer:APQ5          0.982835          0.973751  ...     0.960072  0.658080   \n",
              "MDVP:APQ              0.950083          0.960977  ...     0.896647  0.694019   \n",
              "Shimmer:DDA           0.987626          0.963202  ...     1.000000  0.716215   \n",
              "NHR                   0.722194          0.744477  ...     0.716215  1.000000   \n",
              "HNR                  -0.835271         -0.827805  ...    -0.827130 -0.714072   \n",
              "status                0.367430          0.350697  ...     0.347608  0.189429   \n",
              "RPDE                  0.447424          0.410684  ...     0.435237  0.370890   \n",
              "DFA                   0.159954          0.165157  ...     0.151132 -0.131882   \n",
              "spread1               0.654734          0.652547  ...     0.610971  0.540865   \n",
              "spread2               0.452025          0.454314  ...     0.402223  0.318099   \n",
              "D2                    0.507088          0.512233  ...     0.467261  0.470949   \n",
              "PPE                   0.693771          0.695058  ...     0.645389  0.552591   \n",
              "\n",
              "                       HNR    status      RPDE       DFA   spread1   spread2  \\\n",
              "MDVP:Fo(Hz)       0.059144 -0.383535 -0.383894 -0.446013 -0.413738 -0.249450   \n",
              "MDVP:Fhi(Hz)     -0.024893 -0.166136 -0.112404 -0.343097 -0.076658 -0.002954   \n",
              "MDVP:Flo(Hz)      0.210851 -0.380200 -0.400143 -0.050406 -0.394857 -0.243829   \n",
              "MDVP:Jitter(%)   -0.728165  0.278220  0.360673  0.098572  0.693577  0.385123   \n",
              "MDVP:Jitter(Abs) -0.656810  0.338653  0.441839  0.175036  0.735779  0.388543   \n",
              "MDVP:RAP         -0.721543  0.266668  0.342140  0.064083  0.648328  0.324407   \n",
              "MDVP:PPQ         -0.731510  0.288698  0.333274  0.196301  0.716489  0.407605   \n",
              "Jitter:DDP       -0.721494  0.266646  0.342079  0.064026  0.648328  0.324377   \n",
              "MDVP:Shimmer     -0.835271  0.367430  0.447424  0.159954  0.654734  0.452025   \n",
              "MDVP:Shimmer(dB) -0.827805  0.350697  0.410684  0.165157  0.652547  0.454314   \n",
              "Shimmer:APQ3     -0.827123  0.347617  0.435242  0.151124  0.610967  0.402243   \n",
              "Shimmer:APQ5     -0.813753  0.351148  0.399903  0.213873  0.646809  0.457195   \n",
              "MDVP:APQ         -0.800407  0.364316  0.451379  0.157276  0.673158  0.502188   \n",
              "Shimmer:DDA      -0.827130  0.347608  0.435237  0.151132  0.610971  0.402223   \n",
              "NHR              -0.714072  0.189429  0.370890 -0.131882  0.540865  0.318099   \n",
              "HNR               1.000000 -0.361515 -0.598736 -0.008665 -0.673210 -0.431564   \n",
              "status           -0.361515  1.000000  0.308567  0.231739  0.564838  0.454842   \n",
              "RPDE             -0.598736  0.308567  1.000000 -0.110950  0.591117  0.479905   \n",
              "DFA              -0.008665  0.231739 -0.110950  1.000000  0.195668  0.166548   \n",
              "spread1          -0.673210  0.564838  0.591117  0.195668  1.000000  0.652358   \n",
              "spread2          -0.431564  0.454842  0.479905  0.166548  0.652358  1.000000   \n",
              "D2               -0.601401  0.340232  0.236931 -0.165381  0.495123  0.523532   \n",
              "PPE              -0.692876  0.531039  0.545886  0.270445  0.962435  0.644711   \n",
              "\n",
              "                        D2       PPE  \n",
              "MDVP:Fo(Hz)       0.177980 -0.372356  \n",
              "MDVP:Fhi(Hz)      0.176323 -0.069543  \n",
              "MDVP:Flo(Hz)     -0.100629 -0.340071  \n",
              "MDVP:Jitter(%)    0.433434  0.721543  \n",
              "MDVP:Jitter(Abs)  0.310694  0.748162  \n",
              "MDVP:RAP          0.426605  0.670999  \n",
              "MDVP:PPQ          0.412524  0.769647  \n",
              "Jitter:DDP        0.426556  0.671005  \n",
              "MDVP:Shimmer      0.507088  0.693771  \n",
              "MDVP:Shimmer(dB)  0.512233  0.695058  \n",
              "Shimmer:APQ3      0.467265  0.645377  \n",
              "Shimmer:APQ5      0.502174  0.702456  \n",
              "MDVP:APQ          0.536869  0.721694  \n",
              "Shimmer:DDA       0.467261  0.645389  \n",
              "NHR               0.470949  0.552591  \n",
              "HNR              -0.601401 -0.692876  \n",
              "status            0.340232  0.531039  \n",
              "RPDE              0.236931  0.545886  \n",
              "DFA              -0.165381  0.270445  \n",
              "spread1           0.495123  0.962435  \n",
              "spread2           0.523532  0.644711  \n",
              "D2                1.000000  0.480585  \n",
              "PPE               0.480585  1.000000  \n",
              "\n",
              "[23 rows x 23 columns]"
            ],
            "text/html": [
              "\n",
              "  <div id=\"df-e3067501-ab75-4738-8de8-a72889aef3b8\">\n",
              "    <div class=\"colab-df-container\">\n",
              "      <div>\n",
              "<style scoped>\n",
              "    .dataframe tbody tr th:only-of-type {\n",
              "        vertical-align: middle;\n",
              "    }\n",
              "\n",
              "    .dataframe tbody tr th {\n",
              "        vertical-align: top;\n",
              "    }\n",
              "\n",
              "    .dataframe thead th {\n",
              "        text-align: right;\n",
              "    }\n",
              "</style>\n",
              "<table border=\"1\" class=\"dataframe\">\n",
              "  <thead>\n",
              "    <tr style=\"text-align: right;\">\n",
              "      <th></th>\n",
              "      <th>MDVP:Fo(Hz)</th>\n",
              "      <th>MDVP:Fhi(Hz)</th>\n",
              "      <th>MDVP:Flo(Hz)</th>\n",
              "      <th>MDVP:Jitter(%)</th>\n",
              "      <th>MDVP:Jitter(Abs)</th>\n",
              "      <th>MDVP:RAP</th>\n",
              "      <th>MDVP:PPQ</th>\n",
              "      <th>Jitter:DDP</th>\n",
              "      <th>MDVP:Shimmer</th>\n",
              "      <th>MDVP:Shimmer(dB)</th>\n",
              "      <th>...</th>\n",
              "      <th>Shimmer:DDA</th>\n",
              "      <th>NHR</th>\n",
              "      <th>HNR</th>\n",
              "      <th>status</th>\n",
              "      <th>RPDE</th>\n",
              "      <th>DFA</th>\n",
              "      <th>spread1</th>\n",
              "      <th>spread2</th>\n",
              "      <th>D2</th>\n",
              "      <th>PPE</th>\n",
              "    </tr>\n",
              "  </thead>\n",
              "  <tbody>\n",
              "    <tr>\n",
              "      <th>MDVP:Fo(Hz)</th>\n",
              "      <td>1.000000</td>\n",
              "      <td>0.400985</td>\n",
              "      <td>0.596546</td>\n",
              "      <td>-0.118003</td>\n",
              "      <td>-0.382027</td>\n",
              "      <td>-0.076194</td>\n",
              "      <td>-0.112165</td>\n",
              "      <td>-0.076213</td>\n",
              "      <td>-0.098374</td>\n",
              "      <td>-0.073742</td>\n",
              "      <td>...</td>\n",
              "      <td>-0.094732</td>\n",
              "      <td>-0.021981</td>\n",
              "      <td>0.059144</td>\n",
              "      <td>-0.383535</td>\n",
              "      <td>-0.383894</td>\n",
              "      <td>-0.446013</td>\n",
              "      <td>-0.413738</td>\n",
              "      <td>-0.249450</td>\n",
              "      <td>0.177980</td>\n",
              "      <td>-0.372356</td>\n",
              "    </tr>\n",
              "    <tr>\n",
              "      <th>MDVP:Fhi(Hz)</th>\n",
              "      <td>0.400985</td>\n",
              "      <td>1.000000</td>\n",
              "      <td>0.084951</td>\n",
              "      <td>0.102086</td>\n",
              "      <td>-0.029198</td>\n",
              "      <td>0.097177</td>\n",
              "      <td>0.091126</td>\n",
              "      <td>0.097150</td>\n",
              "      <td>0.002281</td>\n",
              "      <td>0.043465</td>\n",
              "      <td>...</td>\n",
              "      <td>-0.003733</td>\n",
              "      <td>0.163766</td>\n",
              "      <td>-0.024893</td>\n",
              "      <td>-0.166136</td>\n",
              "      <td>-0.112404</td>\n",
              "      <td>-0.343097</td>\n",
              "      <td>-0.076658</td>\n",
              "      <td>-0.002954</td>\n",
              "      <td>0.176323</td>\n",
              "      <td>-0.069543</td>\n",
              "    </tr>\n",
              "    <tr>\n",
              "      <th>MDVP:Flo(Hz)</th>\n",
              "      <td>0.596546</td>\n",
              "      <td>0.084951</td>\n",
              "      <td>1.000000</td>\n",
              "      <td>-0.139919</td>\n",
              "      <td>-0.277815</td>\n",
              "      <td>-0.100519</td>\n",
              "      <td>-0.095828</td>\n",
              "      <td>-0.100488</td>\n",
              "      <td>-0.144543</td>\n",
              "      <td>-0.119089</td>\n",
              "      <td>...</td>\n",
              "      <td>-0.150737</td>\n",
              "      <td>-0.108670</td>\n",
              "      <td>0.210851</td>\n",
              "      <td>-0.380200</td>\n",
              "      <td>-0.400143</td>\n",
              "      <td>-0.050406</td>\n",
              "      <td>-0.394857</td>\n",
              "      <td>-0.243829</td>\n",
              "      <td>-0.100629</td>\n",
              "      <td>-0.340071</td>\n",
              "    </tr>\n",
              "    <tr>\n",
              "      <th>MDVP:Jitter(%)</th>\n",
              "      <td>-0.118003</td>\n",
              "      <td>0.102086</td>\n",
              "      <td>-0.139919</td>\n",
              "      <td>1.000000</td>\n",
              "      <td>0.935714</td>\n",
              "      <td>0.990276</td>\n",
              "      <td>0.974256</td>\n",
              "      <td>0.990276</td>\n",
              "      <td>0.769063</td>\n",
              "      <td>0.804289</td>\n",
              "      <td>...</td>\n",
              "      <td>0.746635</td>\n",
              "      <td>0.906959</td>\n",
              "      <td>-0.728165</td>\n",
              "      <td>0.278220</td>\n",
              "      <td>0.360673</td>\n",
              "      <td>0.098572</td>\n",
              "      <td>0.693577</td>\n",
              "      <td>0.385123</td>\n",
              "      <td>0.433434</td>\n",
              "      <td>0.721543</td>\n",
              "    </tr>\n",
              "    <tr>\n",
              "      <th>MDVP:Jitter(Abs)</th>\n",
              "      <td>-0.382027</td>\n",
              "      <td>-0.029198</td>\n",
              "      <td>-0.277815</td>\n",
              "      <td>0.935714</td>\n",
              "      <td>1.000000</td>\n",
              "      <td>0.922911</td>\n",
              "      <td>0.897778</td>\n",
              "      <td>0.922913</td>\n",
              "      <td>0.703322</td>\n",
              "      <td>0.716601</td>\n",
              "      <td>...</td>\n",
              "      <td>0.697170</td>\n",
              "      <td>0.834972</td>\n",
              "      <td>-0.656810</td>\n",
              "      <td>0.338653</td>\n",
              "      <td>0.441839</td>\n",
              "      <td>0.175036</td>\n",
              "      <td>0.735779</td>\n",
              "      <td>0.388543</td>\n",
              "      <td>0.310694</td>\n",
              "      <td>0.748162</td>\n",
              "    </tr>\n",
              "    <tr>\n",
              "      <th>MDVP:RAP</th>\n",
              "      <td>-0.076194</td>\n",
              "      <td>0.097177</td>\n",
              "      <td>-0.100519</td>\n",
              "      <td>0.990276</td>\n",
              "      <td>0.922911</td>\n",
              "      <td>1.000000</td>\n",
              "      <td>0.957317</td>\n",
              "      <td>1.000000</td>\n",
              "      <td>0.759581</td>\n",
              "      <td>0.790652</td>\n",
              "      <td>...</td>\n",
              "      <td>0.744919</td>\n",
              "      <td>0.919521</td>\n",
              "      <td>-0.721543</td>\n",
              "      <td>0.266668</td>\n",
              "      <td>0.342140</td>\n",
              "      <td>0.064083</td>\n",
              "      <td>0.648328</td>\n",
              "      <td>0.324407</td>\n",
              "      <td>0.426605</td>\n",
              "      <td>0.670999</td>\n",
              "    </tr>\n",
              "    <tr>\n",
              "      <th>MDVP:PPQ</th>\n",
              "      <td>-0.112165</td>\n",
              "      <td>0.091126</td>\n",
              "      <td>-0.095828</td>\n",
              "      <td>0.974256</td>\n",
              "      <td>0.897778</td>\n",
              "      <td>0.957317</td>\n",
              "      <td>1.000000</td>\n",
              "      <td>0.957319</td>\n",
              "      <td>0.797826</td>\n",
              "      <td>0.839239</td>\n",
              "      <td>...</td>\n",
              "      <td>0.763592</td>\n",
              "      <td>0.844604</td>\n",
              "      <td>-0.731510</td>\n",
              "      <td>0.288698</td>\n",
              "      <td>0.333274</td>\n",
              "      <td>0.196301</td>\n",
              "      <td>0.716489</td>\n",
              "      <td>0.407605</td>\n",
              "      <td>0.412524</td>\n",
              "      <td>0.769647</td>\n",
              "    </tr>\n",
              "    <tr>\n",
              "      <th>Jitter:DDP</th>\n",
              "      <td>-0.076213</td>\n",
              "      <td>0.097150</td>\n",
              "      <td>-0.100488</td>\n",
              "      <td>0.990276</td>\n",
              "      <td>0.922913</td>\n",
              "      <td>1.000000</td>\n",
              "      <td>0.957319</td>\n",
              "      <td>1.000000</td>\n",
              "      <td>0.759555</td>\n",
              "      <td>0.790621</td>\n",
              "      <td>...</td>\n",
              "      <td>0.744901</td>\n",
              "      <td>0.919548</td>\n",
              "      <td>-0.721494</td>\n",
              "      <td>0.266646</td>\n",
              "      <td>0.342079</td>\n",
              "      <td>0.064026</td>\n",
              "      <td>0.648328</td>\n",
              "      <td>0.324377</td>\n",
              "      <td>0.426556</td>\n",
              "      <td>0.671005</td>\n",
              "    </tr>\n",
              "    <tr>\n",
              "      <th>MDVP:Shimmer</th>\n",
              "      <td>-0.098374</td>\n",
              "      <td>0.002281</td>\n",
              "      <td>-0.144543</td>\n",
              "      <td>0.769063</td>\n",
              "      <td>0.703322</td>\n",
              "      <td>0.759581</td>\n",
              "      <td>0.797826</td>\n",
              "      <td>0.759555</td>\n",
              "      <td>1.000000</td>\n",
              "      <td>0.987258</td>\n",
              "      <td>...</td>\n",
              "      <td>0.987626</td>\n",
              "      <td>0.722194</td>\n",
              "      <td>-0.835271</td>\n",
              "      <td>0.367430</td>\n",
              "      <td>0.447424</td>\n",
              "      <td>0.159954</td>\n",
              "      <td>0.654734</td>\n",
              "      <td>0.452025</td>\n",
              "      <td>0.507088</td>\n",
              "      <td>0.693771</td>\n",
              "    </tr>\n",
              "    <tr>\n",
              "      <th>MDVP:Shimmer(dB)</th>\n",
              "      <td>-0.073742</td>\n",
              "      <td>0.043465</td>\n",
              "      <td>-0.119089</td>\n",
              "      <td>0.804289</td>\n",
              "      <td>0.716601</td>\n",
              "      <td>0.790652</td>\n",
              "      <td>0.839239</td>\n",
              "      <td>0.790621</td>\n",
              "      <td>0.987258</td>\n",
              "      <td>1.000000</td>\n",
              "      <td>...</td>\n",
              "      <td>0.963202</td>\n",
              "      <td>0.744477</td>\n",
              "      <td>-0.827805</td>\n",
              "      <td>0.350697</td>\n",
              "      <td>0.410684</td>\n",
              "      <td>0.165157</td>\n",
              "      <td>0.652547</td>\n",
              "      <td>0.454314</td>\n",
              "      <td>0.512233</td>\n",
              "      <td>0.695058</td>\n",
              "    </tr>\n",
              "    <tr>\n",
              "      <th>Shimmer:APQ3</th>\n",
              "      <td>-0.094717</td>\n",
              "      <td>-0.003743</td>\n",
              "      <td>-0.150747</td>\n",
              "      <td>0.746625</td>\n",
              "      <td>0.697153</td>\n",
              "      <td>0.744912</td>\n",
              "      <td>0.763580</td>\n",
              "      <td>0.744894</td>\n",
              "      <td>0.987625</td>\n",
              "      <td>0.963198</td>\n",
              "      <td>...</td>\n",
              "      <td>1.000000</td>\n",
              "      <td>0.716207</td>\n",
              "      <td>-0.827123</td>\n",
              "      <td>0.347617</td>\n",
              "      <td>0.435242</td>\n",
              "      <td>0.151124</td>\n",
              "      <td>0.610967</td>\n",
              "      <td>0.402243</td>\n",
              "      <td>0.467265</td>\n",
              "      <td>0.645377</td>\n",
              "    </tr>\n",
              "    <tr>\n",
              "      <th>Shimmer:APQ5</th>\n",
              "      <td>-0.070682</td>\n",
              "      <td>-0.009997</td>\n",
              "      <td>-0.101095</td>\n",
              "      <td>0.725561</td>\n",
              "      <td>0.648961</td>\n",
              "      <td>0.709927</td>\n",
              "      <td>0.786780</td>\n",
              "      <td>0.709907</td>\n",
              "      <td>0.982835</td>\n",
              "      <td>0.973751</td>\n",
              "      <td>...</td>\n",
              "      <td>0.960072</td>\n",
              "      <td>0.658080</td>\n",
              "      <td>-0.813753</td>\n",
              "      <td>0.351148</td>\n",
              "      <td>0.399903</td>\n",
              "      <td>0.213873</td>\n",
              "      <td>0.646809</td>\n",
              "      <td>0.457195</td>\n",
              "      <td>0.502174</td>\n",
              "      <td>0.702456</td>\n",
              "    </tr>\n",
              "    <tr>\n",
              "      <th>MDVP:APQ</th>\n",
              "      <td>-0.077774</td>\n",
              "      <td>0.004937</td>\n",
              "      <td>-0.107293</td>\n",
              "      <td>0.758255</td>\n",
              "      <td>0.648793</td>\n",
              "      <td>0.737455</td>\n",
              "      <td>0.804139</td>\n",
              "      <td>0.737439</td>\n",
              "      <td>0.950083</td>\n",
              "      <td>0.960977</td>\n",
              "      <td>...</td>\n",
              "      <td>0.896647</td>\n",
              "      <td>0.694019</td>\n",
              "      <td>-0.800407</td>\n",
              "      <td>0.364316</td>\n",
              "      <td>0.451379</td>\n",
              "      <td>0.157276</td>\n",
              "      <td>0.673158</td>\n",
              "      <td>0.502188</td>\n",
              "      <td>0.536869</td>\n",
              "      <td>0.721694</td>\n",
              "    </tr>\n",
              "    <tr>\n",
              "      <th>Shimmer:DDA</th>\n",
              "      <td>-0.094732</td>\n",
              "      <td>-0.003733</td>\n",
              "      <td>-0.150737</td>\n",
              "      <td>0.746635</td>\n",
              "      <td>0.697170</td>\n",
              "      <td>0.744919</td>\n",
              "      <td>0.763592</td>\n",
              "      <td>0.744901</td>\n",
              "      <td>0.987626</td>\n",
              "      <td>0.963202</td>\n",
              "      <td>...</td>\n",
              "      <td>1.000000</td>\n",
              "      <td>0.716215</td>\n",
              "      <td>-0.827130</td>\n",
              "      <td>0.347608</td>\n",
              "      <td>0.435237</td>\n",
              "      <td>0.151132</td>\n",
              "      <td>0.610971</td>\n",
              "      <td>0.402223</td>\n",
              "      <td>0.467261</td>\n",
              "      <td>0.645389</td>\n",
              "    </tr>\n",
              "    <tr>\n",
              "      <th>NHR</th>\n",
              "      <td>-0.021981</td>\n",
              "      <td>0.163766</td>\n",
              "      <td>-0.108670</td>\n",
              "      <td>0.906959</td>\n",
              "      <td>0.834972</td>\n",
              "      <td>0.919521</td>\n",
              "      <td>0.844604</td>\n",
              "      <td>0.919548</td>\n",
              "      <td>0.722194</td>\n",
              "      <td>0.744477</td>\n",
              "      <td>...</td>\n",
              "      <td>0.716215</td>\n",
              "      <td>1.000000</td>\n",
              "      <td>-0.714072</td>\n",
              "      <td>0.189429</td>\n",
              "      <td>0.370890</td>\n",
              "      <td>-0.131882</td>\n",
              "      <td>0.540865</td>\n",
              "      <td>0.318099</td>\n",
              "      <td>0.470949</td>\n",
              "      <td>0.552591</td>\n",
              "    </tr>\n",
              "    <tr>\n",
              "      <th>HNR</th>\n",
              "      <td>0.059144</td>\n",
              "      <td>-0.024893</td>\n",
              "      <td>0.210851</td>\n",
              "      <td>-0.728165</td>\n",
              "      <td>-0.656810</td>\n",
              "      <td>-0.721543</td>\n",
              "      <td>-0.731510</td>\n",
              "      <td>-0.721494</td>\n",
              "      <td>-0.835271</td>\n",
              "      <td>-0.827805</td>\n",
              "      <td>...</td>\n",
              "      <td>-0.827130</td>\n",
              "      <td>-0.714072</td>\n",
              "      <td>1.000000</td>\n",
              "      <td>-0.361515</td>\n",
              "      <td>-0.598736</td>\n",
              "      <td>-0.008665</td>\n",
              "      <td>-0.673210</td>\n",
              "      <td>-0.431564</td>\n",
              "      <td>-0.601401</td>\n",
              "      <td>-0.692876</td>\n",
              "    </tr>\n",
              "    <tr>\n",
              "      <th>status</th>\n",
              "      <td>-0.383535</td>\n",
              "      <td>-0.166136</td>\n",
              "      <td>-0.380200</td>\n",
              "      <td>0.278220</td>\n",
              "      <td>0.338653</td>\n",
              "      <td>0.266668</td>\n",
              "      <td>0.288698</td>\n",
              "      <td>0.266646</td>\n",
              "      <td>0.367430</td>\n",
              "      <td>0.350697</td>\n",
              "      <td>...</td>\n",
              "      <td>0.347608</td>\n",
              "      <td>0.189429</td>\n",
              "      <td>-0.361515</td>\n",
              "      <td>1.000000</td>\n",
              "      <td>0.308567</td>\n",
              "      <td>0.231739</td>\n",
              "      <td>0.564838</td>\n",
              "      <td>0.454842</td>\n",
              "      <td>0.340232</td>\n",
              "      <td>0.531039</td>\n",
              "    </tr>\n",
              "    <tr>\n",
              "      <th>RPDE</th>\n",
              "      <td>-0.383894</td>\n",
              "      <td>-0.112404</td>\n",
              "      <td>-0.400143</td>\n",
              "      <td>0.360673</td>\n",
              "      <td>0.441839</td>\n",
              "      <td>0.342140</td>\n",
              "      <td>0.333274</td>\n",
              "      <td>0.342079</td>\n",
              "      <td>0.447424</td>\n",
              "      <td>0.410684</td>\n",
              "      <td>...</td>\n",
              "      <td>0.435237</td>\n",
              "      <td>0.370890</td>\n",
              "      <td>-0.598736</td>\n",
              "      <td>0.308567</td>\n",
              "      <td>1.000000</td>\n",
              "      <td>-0.110950</td>\n",
              "      <td>0.591117</td>\n",
              "      <td>0.479905</td>\n",
              "      <td>0.236931</td>\n",
              "      <td>0.545886</td>\n",
              "    </tr>\n",
              "    <tr>\n",
              "      <th>DFA</th>\n",
              "      <td>-0.446013</td>\n",
              "      <td>-0.343097</td>\n",
              "      <td>-0.050406</td>\n",
              "      <td>0.098572</td>\n",
              "      <td>0.175036</td>\n",
              "      <td>0.064083</td>\n",
              "      <td>0.196301</td>\n",
              "      <td>0.064026</td>\n",
              "      <td>0.159954</td>\n",
              "      <td>0.165157</td>\n",
              "      <td>...</td>\n",
              "      <td>0.151132</td>\n",
              "      <td>-0.131882</td>\n",
              "      <td>-0.008665</td>\n",
              "      <td>0.231739</td>\n",
              "      <td>-0.110950</td>\n",
              "      <td>1.000000</td>\n",
              "      <td>0.195668</td>\n",
              "      <td>0.166548</td>\n",
              "      <td>-0.165381</td>\n",
              "      <td>0.270445</td>\n",
              "    </tr>\n",
              "    <tr>\n",
              "      <th>spread1</th>\n",
              "      <td>-0.413738</td>\n",
              "      <td>-0.076658</td>\n",
              "      <td>-0.394857</td>\n",
              "      <td>0.693577</td>\n",
              "      <td>0.735779</td>\n",
              "      <td>0.648328</td>\n",
              "      <td>0.716489</td>\n",
              "      <td>0.648328</td>\n",
              "      <td>0.654734</td>\n",
              "      <td>0.652547</td>\n",
              "      <td>...</td>\n",
              "      <td>0.610971</td>\n",
              "      <td>0.540865</td>\n",
              "      <td>-0.673210</td>\n",
              "      <td>0.564838</td>\n",
              "      <td>0.591117</td>\n",
              "      <td>0.195668</td>\n",
              "      <td>1.000000</td>\n",
              "      <td>0.652358</td>\n",
              "      <td>0.495123</td>\n",
              "      <td>0.962435</td>\n",
              "    </tr>\n",
              "    <tr>\n",
              "      <th>spread2</th>\n",
              "      <td>-0.249450</td>\n",
              "      <td>-0.002954</td>\n",
              "      <td>-0.243829</td>\n",
              "      <td>0.385123</td>\n",
              "      <td>0.388543</td>\n",
              "      <td>0.324407</td>\n",
              "      <td>0.407605</td>\n",
              "      <td>0.324377</td>\n",
              "      <td>0.452025</td>\n",
              "      <td>0.454314</td>\n",
              "      <td>...</td>\n",
              "      <td>0.402223</td>\n",
              "      <td>0.318099</td>\n",
              "      <td>-0.431564</td>\n",
              "      <td>0.454842</td>\n",
              "      <td>0.479905</td>\n",
              "      <td>0.166548</td>\n",
              "      <td>0.652358</td>\n",
              "      <td>1.000000</td>\n",
              "      <td>0.523532</td>\n",
              "      <td>0.644711</td>\n",
              "    </tr>\n",
              "    <tr>\n",
              "      <th>D2</th>\n",
              "      <td>0.177980</td>\n",
              "      <td>0.176323</td>\n",
              "      <td>-0.100629</td>\n",
              "      <td>0.433434</td>\n",
              "      <td>0.310694</td>\n",
              "      <td>0.426605</td>\n",
              "      <td>0.412524</td>\n",
              "      <td>0.426556</td>\n",
              "      <td>0.507088</td>\n",
              "      <td>0.512233</td>\n",
              "      <td>...</td>\n",
              "      <td>0.467261</td>\n",
              "      <td>0.470949</td>\n",
              "      <td>-0.601401</td>\n",
              "      <td>0.340232</td>\n",
              "      <td>0.236931</td>\n",
              "      <td>-0.165381</td>\n",
              "      <td>0.495123</td>\n",
              "      <td>0.523532</td>\n",
              "      <td>1.000000</td>\n",
              "      <td>0.480585</td>\n",
              "    </tr>\n",
              "    <tr>\n",
              "      <th>PPE</th>\n",
              "      <td>-0.372356</td>\n",
              "      <td>-0.069543</td>\n",
              "      <td>-0.340071</td>\n",
              "      <td>0.721543</td>\n",
              "      <td>0.748162</td>\n",
              "      <td>0.670999</td>\n",
              "      <td>0.769647</td>\n",
              "      <td>0.671005</td>\n",
              "      <td>0.693771</td>\n",
              "      <td>0.695058</td>\n",
              "      <td>...</td>\n",
              "      <td>0.645389</td>\n",
              "      <td>0.552591</td>\n",
              "      <td>-0.692876</td>\n",
              "      <td>0.531039</td>\n",
              "      <td>0.545886</td>\n",
              "      <td>0.270445</td>\n",
              "      <td>0.962435</td>\n",
              "      <td>0.644711</td>\n",
              "      <td>0.480585</td>\n",
              "      <td>1.000000</td>\n",
              "    </tr>\n",
              "  </tbody>\n",
              "</table>\n",
              "<p>23 rows × 23 columns</p>\n",
              "</div>\n",
              "      <button class=\"colab-df-convert\" onclick=\"convertToInteractive('df-e3067501-ab75-4738-8de8-a72889aef3b8')\"\n",
              "              title=\"Convert this dataframe to an interactive table.\"\n",
              "              style=\"display:none;\">\n",
              "        \n",
              "  <svg xmlns=\"http://www.w3.org/2000/svg\" height=\"24px\"viewBox=\"0 0 24 24\"\n",
              "       width=\"24px\">\n",
              "    <path d=\"M0 0h24v24H0V0z\" fill=\"none\"/>\n",
              "    <path d=\"M18.56 5.44l.94 2.06.94-2.06 2.06-.94-2.06-.94-.94-2.06-.94 2.06-2.06.94zm-11 1L8.5 8.5l.94-2.06 2.06-.94-2.06-.94L8.5 2.5l-.94 2.06-2.06.94zm10 10l.94 2.06.94-2.06 2.06-.94-2.06-.94-.94-2.06-.94 2.06-2.06.94z\"/><path d=\"M17.41 7.96l-1.37-1.37c-.4-.4-.92-.59-1.43-.59-.52 0-1.04.2-1.43.59L10.3 9.45l-7.72 7.72c-.78.78-.78 2.05 0 2.83L4 21.41c.39.39.9.59 1.41.59.51 0 1.02-.2 1.41-.59l7.78-7.78 2.81-2.81c.8-.78.8-2.07 0-2.86zM5.41 20L4 18.59l7.72-7.72 1.47 1.35L5.41 20z\"/>\n",
              "  </svg>\n",
              "      </button>\n",
              "      \n",
              "  <style>\n",
              "    .colab-df-container {\n",
              "      display:flex;\n",
              "      flex-wrap:wrap;\n",
              "      gap: 12px;\n",
              "    }\n",
              "\n",
              "    .colab-df-convert {\n",
              "      background-color: #E8F0FE;\n",
              "      border: none;\n",
              "      border-radius: 50%;\n",
              "      cursor: pointer;\n",
              "      display: none;\n",
              "      fill: #1967D2;\n",
              "      height: 32px;\n",
              "      padding: 0 0 0 0;\n",
              "      width: 32px;\n",
              "    }\n",
              "\n",
              "    .colab-df-convert:hover {\n",
              "      background-color: #E2EBFA;\n",
              "      box-shadow: 0px 1px 2px rgba(60, 64, 67, 0.3), 0px 1px 3px 1px rgba(60, 64, 67, 0.15);\n",
              "      fill: #174EA6;\n",
              "    }\n",
              "\n",
              "    [theme=dark] .colab-df-convert {\n",
              "      background-color: #3B4455;\n",
              "      fill: #D2E3FC;\n",
              "    }\n",
              "\n",
              "    [theme=dark] .colab-df-convert:hover {\n",
              "      background-color: #434B5C;\n",
              "      box-shadow: 0px 1px 3px 1px rgba(0, 0, 0, 0.15);\n",
              "      filter: drop-shadow(0px 1px 2px rgba(0, 0, 0, 0.3));\n",
              "      fill: #FFFFFF;\n",
              "    }\n",
              "  </style>\n",
              "\n",
              "      <script>\n",
              "        const buttonEl =\n",
              "          document.querySelector('#df-e3067501-ab75-4738-8de8-a72889aef3b8 button.colab-df-convert');\n",
              "        buttonEl.style.display =\n",
              "          google.colab.kernel.accessAllowed ? 'block' : 'none';\n",
              "\n",
              "        async function convertToInteractive(key) {\n",
              "          const element = document.querySelector('#df-e3067501-ab75-4738-8de8-a72889aef3b8');\n",
              "          const dataTable =\n",
              "            await google.colab.kernel.invokeFunction('convertToInteractive',\n",
              "                                                     [key], {});\n",
              "          if (!dataTable) return;\n",
              "\n",
              "          const docLinkHtml = 'Like what you see? Visit the ' +\n",
              "            '<a target=\"_blank\" href=https://colab.research.google.com/notebooks/data_table.ipynb>data table notebook</a>'\n",
              "            + ' to learn more about interactive tables.';\n",
              "          element.innerHTML = '';\n",
              "          dataTable['output_type'] = 'display_data';\n",
              "          await google.colab.output.renderOutput(dataTable, element);\n",
              "          const docLink = document.createElement('div');\n",
              "          docLink.innerHTML = docLinkHtml;\n",
              "          element.appendChild(docLink);\n",
              "        }\n",
              "      </script>\n",
              "    </div>\n",
              "  </div>\n",
              "  "
            ]
          },
          "metadata": {},
          "execution_count": 82
        }
      ]
    },
    {
      "cell_type": "code",
      "source": [
        "sns.set(style=\"whitegrid\")\n",
        "plt.figure(figsize=(10,5))\n",
        "ax=sns.countplot(x=\"status\",data=parkinsons_data,palette=sns.color_palette(\"cubehelix\",4))\n",
        "plt.xticks(rotation=90)\n",
        "plt.title(\"Class Label Counts\",{\"fontname\":\"fantasy\",\"fontweight\":\"bold\",\"fontsize\":\"medium\"})\n",
        "plt.ylabel(\"count\", {\"fontname\":\"serif\",\"fontweight\":\"bold\"})\n",
        "plt.xlabel(\"Class\", {\"fontname\":\"serif\",\"fontweight\":\"bold\"})\n",
        "\n"
      ],
      "metadata": {
        "colab": {
          "base_uri": "https://localhost:8080/",
          "height": 502
        },
        "id": "_IhRhRkKnCfb",
        "outputId": "25bb2900-9ece-41fc-c476-a1e6e7b7d97b"
      },
      "execution_count": 83,
      "outputs": [
        {
          "output_type": "execute_result",
          "data": {
            "text/plain": [
              "Text(0.5, 0, 'Class')"
            ]
          },
          "metadata": {},
          "execution_count": 83
        },
        {
          "output_type": "display_data",
          "data": {
            "text/plain": [
              "<Figure size 1000x500 with 1 Axes>"
            ],
            "image/png": "[encoded data removed]"
          },
          "metadata": {}
        }
      ]
    },
    {
      "cell_type": "code",
      "source": [
        "fig = plt.figure(figsize =(10, 7))\n",
        "\n",
        "stat = parkinsons_data['status']\n",
        "\n",
        "x = [0, 1]\n",
        "l = ['0','1']\n",
        "c = ['blue', 'orange']\n",
        " \n",
        "#bar plot\n",
        "plt.bar(x, height = 1000, color = c, label = l) \n",
        "plt.grid(False)\n",
        "plt.xticks([0,1])\n",
        "plt.legend(loc=(1,0.5))\n",
        "\n",
        "plt.title('0 : not affected & 1 : affected')\n",
        "plt.show()\n",
        "\n",
        "print(' ')\n",
        "\n",
        "#pie chart\n",
        "plt.pie([1000,1000],labels=['not affected','affect'],autopct='%.2f%%')\n",
        "plt.legend(loc=(1,0.5))\n",
        "plt.title('0 : not affected & 1 : affect')\n",
        "plt.show()\n"
      ],
      "metadata": {
        "colab": {
          "base_uri": "https://localhost:8080/",
          "height": 1000
        },
        "id": "nEsL-adGpANt",
        "outputId": "832d1b80-f9b8-4928-9c59-4bcb16f33bd0"
      },
      "execution_count": 84,
      "outputs": [
        {
          "output_type": "display_data",
          "data": {
            "text/plain": [
              "<Figure size 1000x700 with 1 Axes>"
            ],
            "image/png": "[encoded data removed]"
          },
          "metadata": {}
        },
        {
          "output_type": "stream",
          "name": "stdout",
          "text": [
            " \n"
          ]
        },
        {
          "output_type": "display_data",
          "data": {
            "text/plain": [
              "<Figure size 640x480 with 1 Axes>"
            ],
            "image/png": "[encoded data removed]"
          },
          "metadata": {}
        }
      ]
    },
    {
      "cell_type": "markdown",
      "source": [
        "#Data Preprocessing"
      ],
      "metadata": {
        "id": "CSHvYJj4uDoc"
      }
    },
    {
      "cell_type": "markdown",
      "metadata": {
        "id": "We7sRYu7Gc4q"
      },
      "source": [
        "##Separating the features & Target"
      ]
    },
    {
      "cell_type": "code",
      "metadata": {
        "id": "UAcz8jFnFuzH"
      },
      "source": [
        "X = parkinsons_data.drop(columns=['name','status'], axis=1)\n",
        "Y = parkinsons_data['status']"
      ],
      "execution_count": 85,
      "outputs": []
    },
    {
      "cell_type": "code",
      "metadata": {
        "id": "guRof_8WG1Yn",
        "colab": {
          "base_uri": "https://localhost:8080/",
          "height": 0
        },
        "outputId": "08f1254a-8ddc-4eaf-d347-a76c58b5762c"
      },
      "source": [
        "X"
      ],
      "execution_count": 86,
      "outputs": [
        {
          "output_type": "execute_result",
          "data": {
            "text/plain": [
              "     MDVP:Fo(Hz)  MDVP:Fhi(Hz)  MDVP:Flo(Hz)  MDVP:Jitter(%)  \\\n",
              "0        119.992       157.302        74.997         0.00784   \n",
              "1        122.400       148.650       113.819         0.00968   \n",
              "2        116.682       131.111       111.555         0.01050   \n",
              "3        116.676       137.871       111.366         0.00997   \n",
              "4        116.014       141.781       110.655         0.01284   \n",
              "..           ...           ...           ...             ...   \n",
              "190      174.188       230.978        94.261         0.00459   \n",
              "191      209.516       253.017        89.488         0.00564   \n",
              "192      174.688       240.005        74.287         0.01360   \n",
              "193      198.764       396.961        74.904         0.00740   \n",
              "194      214.289       260.277        77.973         0.00567   \n",
              "\n",
              "     MDVP:Jitter(Abs)  MDVP:RAP  MDVP:PPQ  Jitter:DDP  MDVP:Shimmer  \\\n",
              "0             0.00007   0.00370   0.00554     0.01109       0.04374   \n",
              "1             0.00008   0.00465   0.00696     0.01394       0.06134   \n",
              "2             0.00009   0.00544   0.00781     0.01633       0.05233   \n",
              "3             0.00009   0.00502   0.00698     0.01505       0.05492   \n",
              "4             0.00011   0.00655   0.00908     0.01966       0.06425   \n",
              "..                ...       ...       ...         ...           ...   \n",
              "190           0.00003   0.00263   0.00259     0.00790       0.04087   \n",
              "191           0.00003   0.00331   0.00292     0.00994       0.02751   \n",
              "192           0.00008   0.00624   0.00564     0.01873       0.02308   \n",
              "193           0.00004   0.00370   0.00390     0.01109       0.02296   \n",
              "194           0.00003   0.00295   0.00317     0.00885       0.01884   \n",
              "\n",
              "     MDVP:Shimmer(dB)  ...  MDVP:APQ  Shimmer:DDA      NHR     HNR      RPDE  \\\n",
              "0               0.426  ...   0.02971      0.06545  0.02211  21.033  0.414783   \n",
              "1               0.626  ...   0.04368      0.09403  0.01929  19.085  0.458359   \n",
              "2               0.482  ...   0.03590      0.08270  0.01309  20.651  0.429895   \n",
              "3               0.517  ...   0.03772      0.08771  0.01353  20.644  0.434969   \n",
              "4               0.584  ...   0.04465      0.10470  0.01767  19.649  0.417356   \n",
              "..                ...  ...       ...          ...      ...     ...       ...   \n",
              "190             0.405  ...   0.02745      0.07008  0.02764  19.517  0.448439   \n",
              "191             0.263  ...   0.01879      0.04812  0.01810  19.147  0.431674   \n",
              "192             0.256  ...   0.01667      0.03804  0.10715  17.883  0.407567   \n",
              "193             0.241  ...   0.01588      0.03794  0.07223  19.020  0.451221   \n",
              "194             0.190  ...   0.01373      0.03078  0.04398  21.209  0.462803   \n",
              "\n",
              "          DFA   spread1   spread2        D2       PPE  \n",
              "0    0.815285 -4.813031  0.266482  2.301442  0.284654  \n",
              "1    0.819521 -4.075192  0.335590  2.486855  0.368674  \n",
              "2    0.825288 -4.443179  0.311173  2.342259  0.332634  \n",
              "3    0.819235 -4.117501  0.334147  2.405554  0.368975  \n",
              "4    0.823484 -3.747787  0.234513  2.332180  0.410335  \n",
              "..        ...       ...       ...       ...       ...  \n",
              "190  0.657899 -6.538586  0.121952  2.657476  0.133050  \n",
              "191  0.683244 -6.195325  0.129303  2.784312  0.168895  \n",
              "192  0.655683 -6.787197  0.158453  2.679772  0.131728  \n",
              "193  0.643956 -6.744577  0.207454  2.138608  0.123306  \n",
              "194  0.664357 -5.724056  0.190667  2.555477  0.148569  \n",
              "\n",
              "[195 rows x 22 columns]"
            ],
            "text/html": [
              "\n",
              "  <div id=\"df-a00277fd-08c2-41e5-95d9-b5ab66f9cc65\">\n",
              "    <div class=\"colab-df-container\">\n",
              "      <div>\n",
              "<style scoped>\n",
              "    .dataframe tbody tr th:only-of-type {\n",
              "        vertical-align: middle;\n",
              "    }\n",
              "\n",
              "    .dataframe tbody tr th {\n",
              "        vertical-align: top;\n",
              "    }\n",
              "\n",
              "    .dataframe thead th {\n",
              "        text-align: right;\n",
              "    }\n",
              "</style>\n",
              "<table border=\"1\" class=\"dataframe\">\n",
              "  <thead>\n",
              "    <tr style=\"text-align: right;\">\n",
              "      <th></th>\n",
              "      <th>MDVP:Fo(Hz)</th>\n",
              "      <th>MDVP:Fhi(Hz)</th>\n",
              "      <th>MDVP:Flo(Hz)</th>\n",
              "      <th>MDVP:Jitter(%)</th>\n",
              "      <th>MDVP:Jitter(Abs)</th>\n",
              "      <th>MDVP:RAP</th>\n",
              "      <th>MDVP:PPQ</th>\n",
              "      <th>Jitter:DDP</th>\n",
              "      <th>MDVP:Shimmer</th>\n",
              "      <th>MDVP:Shimmer(dB)</th>\n",
              "      <th>...</th>\n",
              "      <th>MDVP:APQ</th>\n",
              "      <th>Shimmer:DDA</th>\n",
              "      <th>NHR</th>\n",
              "      <th>HNR</th>\n",
              "      <th>RPDE</th>\n",
              "      <th>DFA</th>\n",
              "      <th>spread1</th>\n",
              "      <th>spread2</th>\n",
              "      <th>D2</th>\n",
              "      <th>PPE</th>\n",
              "    </tr>\n",
              "  </thead>\n",
              "  <tbody>\n",
              "    <tr>\n",
              "      <th>0</th>\n",
              "      <td>119.992</td>\n",
              "      <td>157.302</td>\n",
              "      <td>74.997</td>\n",
              "      <td>0.00784</td>\n",
              "      <td>0.00007</td>\n",
              "      <td>0.00370</td>\n",
              "      <td>0.00554</td>\n",
              "      <td>0.01109</td>\n",
              "      <td>0.04374</td>\n",
              "      <td>0.426</td>\n",
              "      <td>...</td>\n",
              "      <td>0.02971</td>\n",
              "      <td>0.06545</td>\n",
              "      <td>0.02211</td>\n",
              "      <td>21.033</td>\n",
              "      <td>0.414783</td>\n",
              "      <td>0.815285</td>\n",
              "      <td>-4.813031</td>\n",
              "      <td>0.266482</td>\n",
              "      <td>2.301442</td>\n",
              "      <td>0.284654</td>\n",
              "    </tr>\n",
              "    <tr>\n",
              "      <th>1</th>\n",
              "      <td>122.400</td>\n",
              "      <td>148.650</td>\n",
              "      <td>113.819</td>\n",
              "      <td>0.00968</td>\n",
              "      <td>0.00008</td>\n",
              "      <td>0.00465</td>\n",
              "      <td>0.00696</td>\n",
              "      <td>0.01394</td>\n",
              "      <td>0.06134</td>\n",
              "      <td>0.626</td>\n",
              "      <td>...</td>\n",
              "      <td>0.04368</td>\n",
              "      <td>0.09403</td>\n",
              "      <td>0.01929</td>\n",
              "      <td>19.085</td>\n",
              "      <td>0.458359</td>\n",
              "      <td>0.819521</td>\n",
              "      <td>-4.075192</td>\n",
              "      <td>0.335590</td>\n",
              "      <td>2.486855</td>\n",
              "      <td>0.368674</td>\n",
              "    </tr>\n",
              "    <tr>\n",
              "      <th>2</th>\n",
              "      <td>116.682</td>\n",
              "      <td>131.111</td>\n",
              "      <td>111.555</td>\n",
              "      <td>0.01050</td>\n",
              "      <td>0.00009</td>\n",
              "      <td>0.00544</td>\n",
              "      <td>0.00781</td>\n",
              "      <td>0.01633</td>\n",
              "      <td>0.05233</td>\n",
              "      <td>0.482</td>\n",
              "      <td>...</td>\n",
              "      <td>0.03590</td>\n",
              "      <td>0.08270</td>\n",
              "      <td>0.01309</td>\n",
              "      <td>20.651</td>\n",
              "      <td>0.429895</td>\n",
              "      <td>0.825288</td>\n",
              "      <td>-4.443179</td>\n",
              "      <td>0.311173</td>\n",
              "      <td>2.342259</td>\n",
              "      <td>0.332634</td>\n",
              "    </tr>\n",
              "    <tr>\n",
              "      <th>3</th>\n",
              "      <td>116.676</td>\n",
              "      <td>137.871</td>\n",
              "      <td>111.366</td>\n",
              "      <td>0.00997</td>\n",
              "      <td>0.00009</td>\n",
              "      <td>0.00502</td>\n",
              "      <td>0.00698</td>\n",
              "      <td>0.01505</td>\n",
              "      <td>0.05492</td>\n",
              "      <td>0.517</td>\n",
              "      <td>...</td>\n",
              "      <td>0.03772</td>\n",
              "      <td>0.08771</td>\n",
              "      <td>0.01353</td>\n",
              "      <td>20.644</td>\n",
              "      <td>0.434969</td>\n",
              "      <td>0.819235</td>\n",
              "      <td>-4.117501</td>\n",
              "      <td>0.334147</td>\n",
              "      <td>2.405554</td>\n",
              "      <td>0.368975</td>\n",
              "    </tr>\n",
              "    <tr>\n",
              "      <th>4</th>\n",
              "      <td>116.014</td>\n",
              "      <td>141.781</td>\n",
              "      <td>110.655</td>\n",
              "      <td>0.01284</td>\n",
              "      <td>0.00011</td>\n",
              "      <td>0.00655</td>\n",
              "      <td>0.00908</td>\n",
              "      <td>0.01966</td>\n",
              "      <td>0.06425</td>\n",
              "      <td>0.584</td>\n",
              "      <td>...</td>\n",
              "      <td>0.04465</td>\n",
              "      <td>0.10470</td>\n",
              "      <td>0.01767</td>\n",
              "      <td>19.649</td>\n",
              "      <td>0.417356</td>\n",
              "      <td>0.823484</td>\n",
              "      <td>-3.747787</td>\n",
              "      <td>0.234513</td>\n",
              "      <td>2.332180</td>\n",
              "      <td>0.410335</td>\n",
              "    </tr>\n",
              "    <tr>\n",
              "      <th>...</th>\n",
              "      <td>...</td>\n",
              "      <td>...</td>\n",
              "      <td>...</td>\n",
              "      <td>...</td>\n",
              "      <td>...</td>\n",
              "      <td>...</td>\n",
              "      <td>...</td>\n",
              "      <td>...</td>\n",
              "      <td>...</td>\n",
              "      <td>...</td>\n",
              "      <td>...</td>\n",
              "      <td>...</td>\n",
              "      <td>...</td>\n",
              "      <td>...</td>\n",
              "      <td>...</td>\n",
              "      <td>...</td>\n",
              "      <td>...</td>\n",
              "      <td>...</td>\n",
              "      <td>...</td>\n",
              "      <td>...</td>\n",
              "      <td>...</td>\n",
              "    </tr>\n",
              "    <tr>\n",
              "      <th>190</th>\n",
              "      <td>174.188</td>\n",
              "      <td>230.978</td>\n",
              "      <td>94.261</td>\n",
              "      <td>0.00459</td>\n",
              "      <td>0.00003</td>\n",
              "      <td>0.00263</td>\n",
              "      <td>0.00259</td>\n",
              "      <td>0.00790</td>\n",
              "      <td>0.04087</td>\n",
              "      <td>0.405</td>\n",
              "      <td>...</td>\n",
              "      <td>0.02745</td>\n",
              "      <td>0.07008</td>\n",
              "      <td>0.02764</td>\n",
              "      <td>19.517</td>\n",
              "      <td>0.448439</td>\n",
              "      <td>0.657899</td>\n",
              "      <td>-6.538586</td>\n",
              "      <td>0.121952</td>\n",
              "      <td>2.657476</td>\n",
              "      <td>0.133050</td>\n",
              "    </tr>\n",
              "    <tr>\n",
              "      <th>191</th>\n",
              "      <td>209.516</td>\n",
              "      <td>253.017</td>\n",
              "      <td>89.488</td>\n",
              "      <td>0.00564</td>\n",
              "      <td>0.00003</td>\n",
              "      <td>0.00331</td>\n",
              "      <td>0.00292</td>\n",
              "      <td>0.00994</td>\n",
              "      <td>0.02751</td>\n",
              "      <td>0.263</td>\n",
              "      <td>...</td>\n",
              "      <td>0.01879</td>\n",
              "      <td>0.04812</td>\n",
              "      <td>0.01810</td>\n",
              "      <td>19.147</td>\n",
              "      <td>0.431674</td>\n",
              "      <td>0.683244</td>\n",
              "      <td>-6.195325</td>\n",
              "      <td>0.129303</td>\n",
              "      <td>2.784312</td>\n",
              "      <td>0.168895</td>\n",
              "    </tr>\n",
              "    <tr>\n",
              "      <th>192</th>\n",
              "      <td>174.688</td>\n",
              "      <td>240.005</td>\n",
              "      <td>74.287</td>\n",
              "      <td>0.01360</td>\n",
              "      <td>0.00008</td>\n",
              "      <td>0.00624</td>\n",
              "      <td>0.00564</td>\n",
              "      <td>0.01873</td>\n",
              "      <td>0.02308</td>\n",
              "      <td>0.256</td>\n",
              "      <td>...</td>\n",
              "      <td>0.01667</td>\n",
              "      <td>0.03804</td>\n",
              "      <td>0.10715</td>\n",
              "      <td>17.883</td>\n",
              "      <td>0.407567</td>\n",
              "      <td>0.655683</td>\n",
              "      <td>-6.787197</td>\n",
              "      <td>0.158453</td>\n",
              "      <td>2.679772</td>\n",
              "      <td>0.131728</td>\n",
              "    </tr>\n",
              "    <tr>\n",
              "      <th>193</th>\n",
              "      <td>198.764</td>\n",
              "      <td>396.961</td>\n",
              "      <td>74.904</td>\n",
              "      <td>0.00740</td>\n",
              "      <td>0.00004</td>\n",
              "      <td>0.00370</td>\n",
              "      <td>0.00390</td>\n",
              "      <td>0.01109</td>\n",
              "      <td>0.02296</td>\n",
              "      <td>0.241</td>\n",
              "      <td>...</td>\n",
              "      <td>0.01588</td>\n",
              "      <td>0.03794</td>\n",
              "      <td>0.07223</td>\n",
              "      <td>19.020</td>\n",
              "      <td>0.451221</td>\n",
              "      <td>0.643956</td>\n",
              "      <td>-6.744577</td>\n",
              "      <td>0.207454</td>\n",
              "      <td>2.138608</td>\n",
              "      <td>0.123306</td>\n",
              "    </tr>\n",
              "    <tr>\n",
              "      <th>194</th>\n",
              "      <td>214.289</td>\n",
              "      <td>260.277</td>\n",
              "      <td>77.973</td>\n",
              "      <td>0.00567</td>\n",
              "      <td>0.00003</td>\n",
              "      <td>0.00295</td>\n",
              "      <td>0.00317</td>\n",
              "      <td>0.00885</td>\n",
              "      <td>0.01884</td>\n",
              "      <td>0.190</td>\n",
              "      <td>...</td>\n",
              "      <td>0.01373</td>\n",
              "      <td>0.03078</td>\n",
              "      <td>0.04398</td>\n",
              "      <td>21.209</td>\n",
              "      <td>0.462803</td>\n",
              "      <td>0.664357</td>\n",
              "      <td>-5.724056</td>\n",
              "      <td>0.190667</td>\n",
              "      <td>2.555477</td>\n",
              "      <td>0.148569</td>\n",
              "    </tr>\n",
              "  </tbody>\n",
              "</table>\n",
              "<p>195 rows × 22 columns</p>\n",
              "</div>\n",
              "      <button class=\"colab-df-convert\" onclick=\"convertToInteractive('df-a00277fd-08c2-41e5-95d9-b5ab66f9cc65')\"\n",
              "              title=\"Convert this dataframe to an interactive table.\"\n",
              "              style=\"display:none;\">\n",
              "        \n",
              "  <svg xmlns=\"http://www.w3.org/2000/svg\" height=\"24px\"viewBox=\"0 0 24 24\"\n",
              "       width=\"24px\">\n",
              "    <path d=\"M0 0h24v24H0V0z\" fill=\"none\"/>\n",
              "    <path d=\"M18.56 5.44l.94 2.06.94-2.06 2.06-.94-2.06-.94-.94-2.06-.94 2.06-2.06.94zm-11 1L8.5 8.5l.94-2.06 2.06-.94-2.06-.94L8.5 2.5l-.94 2.06-2.06.94zm10 10l.94 2.06.94-2.06 2.06-.94-2.06-.94-.94-2.06-.94 2.06-2.06.94z\"/><path d=\"M17.41 7.96l-1.37-1.37c-.4-.4-.92-.59-1.43-.59-.52 0-1.04.2-1.43.59L10.3 9.45l-7.72 7.72c-.78.78-.78 2.05 0 2.83L4 21.41c.39.39.9.59 1.41.59.51 0 1.02-.2 1.41-.59l7.78-7.78 2.81-2.81c.8-.78.8-2.07 0-2.86zM5.41 20L4 18.59l7.72-7.72 1.47 1.35L5.41 20z\"/>\n",
              "  </svg>\n",
              "      </button>\n",
              "      \n",
              "  <style>\n",
              "    .colab-df-container {\n",
              "      display:flex;\n",
              "      flex-wrap:wrap;\n",
              "      gap: 12px;\n",
              "    }\n",
              "\n",
              "    .colab-df-convert {\n",
              "      background-color: #E8F0FE;\n",
              "      border: none;\n",
              "      border-radius: 50%;\n",
              "      cursor: pointer;\n",
              "      display: none;\n",
              "      fill: #1967D2;\n",
              "      height: 32px;\n",
              "      padding: 0 0 0 0;\n",
              "      width: 32px;\n",
              "    }\n",
              "\n",
              "    .colab-df-convert:hover {\n",
              "      background-color: #E2EBFA;\n",
              "      box-shadow: 0px 1px 2px rgba(60, 64, 67, 0.3), 0px 1px 3px 1px rgba(60, 64, 67, 0.15);\n",
              "      fill: #174EA6;\n",
              "    }\n",
              "\n",
              "    [theme=dark] .colab-df-convert {\n",
              "      background-color: #3B4455;\n",
              "      fill: #D2E3FC;\n",
              "    }\n",
              "\n",
              "    [theme=dark] .colab-df-convert:hover {\n",
              "      background-color: #434B5C;\n",
              "      box-shadow: 0px 1px 3px 1px rgba(0, 0, 0, 0.15);\n",
              "      filter: drop-shadow(0px 1px 2px rgba(0, 0, 0, 0.3));\n",
              "      fill: #FFFFFF;\n",
              "    }\n",
              "  </style>\n",
              "\n",
              "      <script>\n",
              "        const buttonEl =\n",
              "          document.querySelector('#df-a00277fd-08c2-41e5-95d9-b5ab66f9cc65 button.colab-df-convert');\n",
              "        buttonEl.style.display =\n",
              "          google.colab.kernel.accessAllowed ? 'block' : 'none';\n",
              "\n",
              "        async function convertToInteractive(key) {\n",
              "          const element = document.querySelector('#df-a00277fd-08c2-41e5-95d9-b5ab66f9cc65');\n",
              "          const dataTable =\n",
              "            await google.colab.kernel.invokeFunction('convertToInteractive',\n",
              "                                                     [key], {});\n",
              "          if (!dataTable) return;\n",
              "\n",
              "          const docLinkHtml = 'Like what you see? Visit the ' +\n",
              "            '<a target=\"_blank\" href=https://colab.research.google.com/notebooks/data_table.ipynb>data table notebook</a>'\n",
              "            + ' to learn more about interactive tables.';\n",
              "          element.innerHTML = '';\n",
              "          dataTable['output_type'] = 'display_data';\n",
              "          await google.colab.output.renderOutput(dataTable, element);\n",
              "          const docLink = document.createElement('div');\n",
              "          docLink.innerHTML = docLinkHtml;\n",
              "          element.appendChild(docLink);\n",
              "        }\n",
              "      </script>\n",
              "    </div>\n",
              "  </div>\n",
              "  "
            ]
          },
          "metadata": {},
          "execution_count": 86
        }
      ]
    },
    {
      "cell_type": "code",
      "metadata": {
        "id": "xSNrvkJoG3cY",
        "colab": {
          "base_uri": "https://localhost:8080/"
        },
        "outputId": "fae141a5-353a-4a82-9623-b51b25e6869f"
      },
      "source": [
        "print(Y)"
      ],
      "execution_count": 87,
      "outputs": [
        {
          "output_type": "stream",
          "name": "stdout",
          "text": [
            "0      1\n",
            "1      1\n",
            "2      1\n",
            "3      1\n",
            "4      1\n",
            "      ..\n",
            "190    0\n",
            "191    0\n",
            "192    0\n",
            "193    0\n",
            "194    0\n",
            "Name: status, Length: 195, dtype: int64\n"
          ]
        }
      ]
    },
    {
      "cell_type": "markdown",
      "metadata": {
        "id": "WDeqEaaHHBAS"
      },
      "source": [
        "##Splitting the data to training data & Test data\n",
        "\n"
      ]
    },
    {
      "cell_type": "code",
      "metadata": {
        "id": "4c6nrCiVG6NB"
      },
      "source": [
        "X_train, X_test, Y_train, Y_test = train_test_split(X, Y, test_size=0.2, random_state=2)"
      ],
      "execution_count": 88,
      "outputs": []
    },
    {
      "cell_type": "code",
      "metadata": {
        "id": "6OqUka96H35c",
        "colab": {
          "base_uri": "https://localhost:8080/"
        },
        "outputId": "4c1d614a-0ac9-4391-e709-08324d08835a"
      },
      "source": [
        "print(X.shape, X_train.shape, X_test.shape)"
      ],
      "execution_count": 89,
      "outputs": [
        {
          "output_type": "stream",
          "name": "stdout",
          "text": [
            "(195, 22) (156, 22) (39, 22)\n"
          ]
        }
      ]
    },
    {
      "cell_type": "markdown",
      "metadata": {
        "id": "ACsXtFTGIFU-"
      },
      "source": [
        "##Data Standardization"
      ]
    },
    {
      "cell_type": "code",
      "metadata": {
        "id": "DbpeUHeUH-4A"
      },
      "source": [
        "scaler = MinMaxScaler()"
      ],
      "execution_count": 90,
      "outputs": []
    },
    {
      "cell_type": "code",
      "metadata": {
        "id": "1FeONzpiInv5"
      },
      "source": [
        "X_train = scaler.fit_transform(X_train)\n",
        "\n",
        "X_test = scaler.transform(X_test)"
      ],
      "execution_count": 91,
      "outputs": []
    },
    {
      "cell_type": "code",
      "metadata": {
        "id": "OS2_4yaVJAiH",
        "colab": {
          "base_uri": "https://localhost:8080/"
        },
        "outputId": "b1fec884-c975-4e0a-d70c-c0ad31859028"
      },
      "source": [
        "print(X_train)"
      ],
      "execution_count": 92,
      "outputs": [
        {
          "output_type": "stream",
          "name": "stdout",
          "text": [
            "[[0.53575187 0.19511613 0.07893767 ... 0.30658752 0.3341028  0.35420274]\n",
            " [0.13278161 0.04542865 0.06647322 ... 0.5694376  0.32378859 0.41507328]\n",
            " [0.39189422 0.14534782 0.01683996 ... 0.40921708 0.32055441 0.24081661]\n",
            " ...\n",
            " [0.16751387 0.0769313  0.26329061 ... 0.72665059 0.3477682  0.29749932]\n",
            " [0.298827   0.23683036 0.10180547 ... 0.45903259 0.34800042 0.39361843]\n",
            " [0.62820673 0.23718411 0.14576209 ... 0.35625446 0.64913198 0.32794287]]\n"
          ]
        }
      ]
    },
    {
      "cell_type": "markdown",
      "metadata": {
        "id": "QIOAtx35JUMg"
      },
      "source": [
        "#Model Training using Support Vector Machine Model"
      ]
    },
    {
      "cell_type": "markdown",
      "source": [
        "##Training model"
      ],
      "metadata": {
        "id": "UME-6LJnKusK"
      }
    },
    {
      "cell_type": "code",
      "metadata": {
        "id": "IDInA1u5JCZ9"
      },
      "source": [
        "model = svm.SVC(kernel='linear', random_state = 10 )"
      ],
      "execution_count": 93,
      "outputs": []
    },
    {
      "cell_type": "code",
      "metadata": {
        "id": "F01DNpqWKmaW",
        "colab": {
          "base_uri": "https://localhost:8080/",
          "height": 75
        },
        "outputId": "a0c3a4dc-78dd-480b-873d-847b7e690692"
      },
      "source": [
        "# training the SVM model with training data\n",
        "model.fit(X_train, Y_train)"
      ],
      "execution_count": 94,
      "outputs": [
        {
          "output_type": "execute_result",
          "data": {
            "text/plain": [
              "SVC(kernel='linear', random_state=10)"
            ],
            "text/html": [
              "<style>#sk-container-id-3 {color: black;background-color: white;}#sk-container-id-3 pre{padding: 0;}#sk-container-id-3 div.sk-toggleable {background-color: white;}#sk-container-id-3 label.sk-toggleable__label {cursor: pointer;display: block;width: 100%;margin-bottom: 0;padding: 0.3em;box-sizing: border-box;text-align: center;}#sk-container-id-3 label.sk-toggleable__label-arrow:before {content: \"▸\";float: left;margin-right: 0.25em;color: #696969;}#sk-container-id-3 label.sk-toggleable__label-arrow:hover:before {color: black;}#sk-container-id-3 div.sk-estimator:hover label.sk-toggleable__label-arrow:before {color: black;}#sk-container-id-3 div.sk-toggleable__content {max-height: 0;max-width: 0;overflow: hidden;text-align: left;background-color: #f0f8ff;}#sk-container-id-3 div.sk-toggleable__content pre {margin: 0.2em;color: black;border-radius: 0.25em;background-color: #f0f8ff;}#sk-container-id-3 input.sk-toggleable__control:checked~div.sk-toggleable__content {max-height: 200px;max-width: 100%;overflow: auto;}#sk-container-id-3 input.sk-toggleable__control:checked~label.sk-toggleable__label-arrow:before {content: \"▾\";}#sk-container-id-3 div.sk-estimator input.sk-toggleable__control:checked~label.sk-toggleable__label {background-color: #d4ebff;}#sk-container-id-3 div.sk-label input.sk-toggleable__control:checked~label.sk-toggleable__label {background-color: #d4ebff;}#sk-container-id-3 input.sk-hidden--visually {border: 0;clip: rect(1px 1px 1px 1px);clip: rect(1px, 1px, 1px, 1px);height: 1px;margin: -1px;overflow: hidden;padding: 0;position: absolute;width: 1px;}#sk-container-id-3 div.sk-estimator {font-family: monospace;background-color: #f0f8ff;border: 1px dotted black;border-radius: 0.25em;box-sizing: border-box;margin-bottom: 0.5em;}#sk-container-id-3 div.sk-estimator:hover {background-color: #d4ebff;}#sk-container-id-3 div.sk-parallel-item::after {content: \"\";width: 100%;border-bottom: 1px solid gray;flex-grow: 1;}#sk-container-id-3 div.sk-label:hover label.sk-toggleable__label {background-color: #d4ebff;}#sk-container-id-3 div.sk-serial::before {content: \"\";position: absolute;border-left: 1px solid gray;box-sizing: border-box;top: 0;bottom: 0;left: 50%;z-index: 0;}#sk-container-id-3 div.sk-serial {display: flex;flex-direction: column;align-items: center;background-color: white;padding-right: 0.2em;padding-left: 0.2em;position: relative;}#sk-container-id-3 div.sk-item {position: relative;z-index: 1;}#sk-container-id-3 div.sk-parallel {display: flex;align-items: stretch;justify-content: center;background-color: white;position: relative;}#sk-container-id-3 div.sk-item::before, #sk-container-id-3 div.sk-parallel-item::before {content: \"\";position: absolute;border-left: 1px solid gray;box-sizing: border-box;top: 0;bottom: 0;left: 50%;z-index: -1;}#sk-container-id-3 div.sk-parallel-item {display: flex;flex-direction: column;z-index: 1;position: relative;background-color: white;}#sk-container-id-3 div.sk-parallel-item:first-child::after {align-self: flex-end;width: 50%;}#sk-container-id-3 div.sk-parallel-item:last-child::after {align-self: flex-start;width: 50%;}#sk-container-id-3 div.sk-parallel-item:only-child::after {width: 0;}#sk-container-id-3 div.sk-dashed-wrapped {border: 1px dashed gray;margin: 0 0.4em 0.5em 0.4em;box-sizing: border-box;padding-bottom: 0.4em;background-color: white;}#sk-container-id-3 div.sk-label label {font-family: monospace;font-weight: bold;display: inline-block;line-height: 1.2em;}#sk-container-id-3 div.sk-label-container {text-align: center;}#sk-container-id-3 div.sk-container {/* jupyter's `normalize.less` sets `[hidden] { display: none; }` but bootstrap.min.css set `[hidden] { display: none !important; }` so we also need the `!important` here to be able to override the default hidden behavior on the sphinx rendered scikit-learn.org. See: https://github.com/scikit-learn/scikit-learn/issues/21755 */display: inline-block !important;position: relative;}#sk-container-id-3 div.sk-text-repr-fallback {display: none;}</style><div id=\"sk-container-id-3\" class=\"sk-top-container\"><div class=\"sk-text-repr-fallback\"><pre>SVC(kernel=&#x27;linear&#x27;, random_state=10)</pre><b>In a Jupyter environment, please rerun this cell to show the HTML representation or trust the notebook. <br />On GitHub, the HTML representation is unable to render, please try loading this page with nbviewer.org.</b></div><div class=\"sk-container\" hidden><div class=\"sk-item\"><div class=\"sk-estimator sk-toggleable\"><input class=\"sk-toggleable__control sk-hidden--visually\" id=\"sk-estimator-id-3\" type=\"checkbox\" checked><label for=\"sk-estimator-id-3\" class=\"sk-toggleable__label sk-toggleable__label-arrow\">SVC</label><div class=\"sk-toggleable__content\"><pre>SVC(kernel=&#x27;linear&#x27;, random_state=10)</pre></div></div></div></div></div>"
            ]
          },
          "metadata": {},
          "execution_count": 94
        }
      ]
    },
    {
      "cell_type": "code",
      "source": [
        "Y_pred = model.predict(X_test)"
      ],
      "metadata": {
        "id": "XMw10bIEIior"
      },
      "execution_count": 95,
      "outputs": []
    },
    {
      "cell_type": "markdown",
      "metadata": {
        "id": "1z_-nZfuLJrH"
      },
      "source": [
        "##Model Evaluation"
      ]
    },
    {
      "cell_type": "markdown",
      "source": [
        "###Confusion Matrix"
      ],
      "metadata": {
        "id": "dFe5VNnTIQ3V"
      }
    },
    {
      "cell_type": "code",
      "source": [
        "from sklearn.metrics import confusion_matrix\n",
        "\n",
        "cf = confusion_matrix(Y_test, Y_pred )"
      ],
      "metadata": {
        "id": "-YC4I4EQIWE1"
      },
      "execution_count": 96,
      "outputs": []
    },
    {
      "cell_type": "code",
      "source": [
        "cf"
      ],
      "metadata": {
        "id": "YHsTb1OaIq9g",
        "colab": {
          "base_uri": "https://localhost:8080/"
        },
        "outputId": "4684c6f8-d648-4641-d35f-5657a35b31cc"
      },
      "execution_count": 97,
      "outputs": [
        {
          "output_type": "execute_result",
          "data": {
            "text/plain": [
              "array([[ 4,  4],\n",
              "       [ 1, 30]])"
            ]
          },
          "metadata": {},
          "execution_count": 97
        }
      ]
    },
    {
      "cell_type": "code",
      "source": [
        "import seaborn as sns\n",
        "sns.heatmap(cf, annot=True)"
      ],
      "metadata": {
        "id": "zsuTJblHMEcj",
        "colab": {
          "base_uri": "https://localhost:8080/",
          "height": 0
        },
        "outputId": "7a6d2a28-bad2-485f-a645-511f38ab5782"
      },
      "execution_count": 98,
      "outputs": [
        {
          "output_type": "execute_result",
          "data": {
            "text/plain": [
              "<Axes: >"
            ]
          },
          "metadata": {},
          "execution_count": 98
        },
        {
          "output_type": "display_data",
          "data": {
            "text/plain": [
              "<Figure size 640x480 with 2 Axes>"
            ],
            "image/png": "[encoded data removed]"
          },
          "metadata": {}
        }
      ]
    },
    {
      "cell_type": "markdown",
      "metadata": {
        "id": "Rj3XAnF8LMF4"
      },
      "source": [
        "###Accuracy Score"
      ]
    },
    {
      "cell_type": "code",
      "metadata": {
        "id": "5LwxNgnqK1Za"
      },
      "source": [
        "# accuracy score on training data\n",
        "X_train_prediction = model.predict(X_train)\n",
        "training_data_accuracy = accuracy_score(Y_train, X_train_prediction)"
      ],
      "execution_count": 99,
      "outputs": []
    },
    {
      "cell_type": "code",
      "metadata": {
        "id": "-dS9tcGdLm41",
        "colab": {
          "base_uri": "https://localhost:8080/"
        },
        "outputId": "958dd8d0-fdc6-4469-977e-61aafd052858"
      },
      "source": [
        "print('Accuracy score of training data : ', training_data_accuracy)"
      ],
      "execution_count": 100,
      "outputs": [
        {
          "output_type": "stream",
          "name": "stdout",
          "text": [
            "Accuracy score of training data :  0.8717948717948718\n"
          ]
        }
      ]
    },
    {
      "cell_type": "code",
      "metadata": {
        "id": "rNUO2uHmLtjY"
      },
      "source": [
        "# accuracy score on training data\n",
        "X_test_prediction = model.predict(X_test)\n",
        "test_data_accuracy = accuracy_score(Y_test, X_test_prediction)"
      ],
      "execution_count": 101,
      "outputs": []
    },
    {
      "cell_type": "code",
      "metadata": {
        "id": "BsF3UnQ2L_aR",
        "colab": {
          "base_uri": "https://localhost:8080/"
        },
        "outputId": "a2061936-554c-4d7c-95f4-3ae8be128d86"
      },
      "source": [
        "print('Accuracy score of test data : ', test_data_accuracy)"
      ],
      "execution_count": 102,
      "outputs": [
        {
          "output_type": "stream",
          "name": "stdout",
          "text": [
            "Accuracy score of test data :  0.8717948717948718\n"
          ]
        }
      ]
    },
    {
      "cell_type": "markdown",
      "source": [
        "#Model Training using CNN"
      ],
      "metadata": {
        "id": "YYKSnq8oTgHR"
      }
    },
    {
      "cell_type": "markdown",
      "source": [
        "##Training model"
      ],
      "metadata": {
        "id": "w35T485j6FKO"
      }
    },
    {
      "cell_type": "code",
      "source": [
        "# Define the CNN model\n",
        "cnn_model = Sequential()\n",
        "cnn_model.add(Conv1D(64, 3, activation='relu', input_shape=(X_train.shape[1], 1)))\n",
        "cnn_model.add(MaxPooling1D(2))\n",
        "cnn_model.add(Conv1D(32, 3, activation='relu'))\n",
        "cnn_model.add(MaxPooling1D(2))\n",
        "cnn_model.add(Flatten())\n",
        "cnn_model.add(Dense(16, activation='relu'))\n",
        "cnn_model.add(Dense(1, activation='sigmoid'))\n",
        "\n",
        "# Compile the model\n",
        "cnn_model.compile(loss='binary_crossentropy', optimizer='adam', metrics=['accuracy'])"
      ],
      "metadata": {
        "id": "NyxWV7xP6FKO"
      },
      "execution_count": 116,
      "outputs": []
    },
    {
      "cell_type": "code",
      "source": [
        "cnn_model.fit(X_train, Y_train, epochs=100, batch_size=16, verbose=0)"
      ],
      "metadata": {
        "colab": {
          "base_uri": "https://localhost:8080/"
        },
        "outputId": "881504e0-323d-4ac2-d83d-ba4986b60381",
        "id": "pAclObHn6FKP"
      },
      "execution_count": 117,
      "outputs": [
        {
          "output_type": "execute_result",
          "data": {
            "text/plain": [
              "<keras.callbacks.History at 0x7effeefb5330>"
            ]
          },
          "metadata": {},
          "execution_count": 117
        }
      ]
    },
    {
      "cell_type": "code",
      "source": [
        "# Evaluate the model on the testing set\n",
        "loss, accuracy = cnn_model.evaluate(X_test, Y_test, verbose=0)\n",
        "print(f'Test loss: {loss:.4f}\\nTest accuracy: {accuracy:.4f}')"
      ],
      "metadata": {
        "colab": {
          "base_uri": "https://localhost:8080/"
        },
        "outputId": "272dce6b-653d-426f-c143-6fe11c6c5acc",
        "id": "BFRO-qUk6FKQ"
      },
      "execution_count": 119,
      "outputs": [
        {
          "output_type": "stream",
          "name": "stdout",
          "text": [
            "Test loss: 0.4184\n",
            "Test accuracy: 0.7436\n"
          ]
        }
      ]
    },
    {
      "cell_type": "code",
      "source": [
        "from tensorflow.keras.utils import plot_model\n",
        "plot_model(cnn_model,\n",
        "           to_file=\"/content/drive/MyDrive/My project/model.png\",\n",
        "           show_shapes=True,\n",
        "           show_layer_names=True,\n",
        "          )"
      ],
      "metadata": {
        "colab": {
          "base_uri": "https://localhost:8080/",
          "height": 865
        },
        "outputId": "e3542a2d-97cb-4313-a42b-b8edb518b23b",
        "id": "3n1XZ8BN6FKR"
      },
      "execution_count": 120,
      "outputs": [
        {
          "output_type": "execute_result",
          "data": {
            "image/png": "[encoded data removed]",
            "text/plain": [
              "<IPython.core.display.Image object>"
            ]
          },
          "metadata": {},
          "execution_count": 120
        }
      ]
    },
    {
      "cell_type": "markdown",
      "metadata": {
        "id": "36OHBpHW6FKS"
      },
      "source": [
        "##Model Evaluation"
      ]
    },
    {
      "cell_type": "markdown",
      "source": [
        "###Confusion Matrix"
      ],
      "metadata": {
        "id": "W2cvL4no6FKS"
      }
    },
    {
      "cell_type": "code",
      "source": [
        "from sklearn.metrics import confusion_matrix\n",
        "y_pred_cnn = cnn_model.predict(X_test)\n",
        "cf_matrix_cnn = confusion_matrix(Y_test, y_pred_cnn.round())"
      ],
      "metadata": {
        "colab": {
          "base_uri": "https://localhost:8080/"
        },
        "outputId": "6576c294-1873-4bd0-a9d8-e38cdbc45577",
        "id": "ZqfwgXCO6FKS"
      },
      "execution_count": 121,
      "outputs": [
        {
          "output_type": "stream",
          "name": "stdout",
          "text": [
            "2/2 [==============================] - 0s 5ms/step\n"
          ]
        }
      ]
    },
    {
      "cell_type": "code",
      "source": [
        "cf_matrix_cnn"
      ],
      "metadata": {
        "colab": {
          "base_uri": "https://localhost:8080/"
        },
        "outputId": "4d68e6d0-1c14-4742-bda4-5af442430690",
        "id": "yAtOlkTP6FKT"
      },
      "execution_count": 122,
      "outputs": [
        {
          "output_type": "execute_result",
          "data": {
            "text/plain": [
              "array([[ 5,  3],\n",
              "       [ 7, 24]])"
            ]
          },
          "metadata": {},
          "execution_count": 122
        }
      ]
    },
    {
      "cell_type": "code",
      "source": [
        "import seaborn as sns\n",
        "sns.heatmap(cf_matrix_cnn, annot=True)"
      ],
      "metadata": {
        "colab": {
          "base_uri": "https://localhost:8080/",
          "height": 451
        },
        "outputId": "03555afd-7cf4-4338-ccf6-3a9fd2234521",
        "id": "UcRlQ6h46FKT"
      },
      "execution_count": 123,
      "outputs": [
        {
          "output_type": "execute_result",
          "data": {
            "text/plain": [
              "<Axes: >"
            ]
          },
          "metadata": {},
          "execution_count": 123
        },
        {
          "output_type": "display_data",
          "data": {
            "text/plain": [
              "<Figure size 640x480 with 2 Axes>"
            ],
            "image/png": "[encoded data removed]"
          },
          "metadata": {}
        }
      ]
    },
    {
      "cell_type": "markdown",
      "metadata": {
        "id": "0Ub_zEtq6FKU"
      },
      "source": [
        "###Accuracy Score"
      ]
    },
    {
      "cell_type": "code",
      "metadata": {
        "colab": {
          "base_uri": "https://localhost:8080/"
        },
        "outputId": "08e2a69e-6d2c-4f0d-9f71-ae703a3b23d7",
        "id": "4VoSmotu6FKU"
      },
      "source": [
        "from sklearn.metrics import classification_report as cr\n",
        "# accuracy score on training data\n",
        "print('The Testing accuracy is : ', accuracy_score(Y_test, y_pred_cnn.round()))\n",
        "print(cr(Y_test, y_pred_cnn.round()))\n"
      ],
      "execution_count": 124,
      "outputs": [
        {
          "output_type": "stream",
          "name": "stdout",
          "text": [
            "The Testing accuracy is :  0.7435897435897436\n",
            "              precision    recall  f1-score   support\n",
            "\n",
            "           0       0.42      0.62      0.50         8\n",
            "           1       0.89      0.77      0.83        31\n",
            "\n",
            "    accuracy                           0.74        39\n",
            "   macro avg       0.65      0.70      0.66        39\n",
            "weighted avg       0.79      0.74      0.76        39\n",
            "\n"
          ]
        }
      ]
    },
    {
      "cell_type": "markdown",
      "source": [
        "#Model Training using ANN"
      ],
      "metadata": {
        "id": "Xfii3k0UT_SP"
      }
    },
    {
      "cell_type": "markdown",
      "source": [
        "##Training model"
      ],
      "metadata": {
        "id": "Q0Ch7VcgXw-H"
      }
    },
    {
      "cell_type": "code",
      "source": [
        "# Define the ANN model\n",
        "classifier = Sequential()\n",
        "classifier.add(Dense(16, input_dim=X_train.shape[1], activation='relu'))\n",
        "classifier.add(Dense(8, activation='relu'))\n",
        "classifier.add(Dense(1, activation='sigmoid'))\n",
        "\n",
        "# Compile the model\n",
        "classifier.compile(loss='binary_crossentropy', optimizer='adam', metrics=['accuracy'])"
      ],
      "metadata": {
        "id": "c18OgKp8Ukhr"
      },
      "execution_count": 104,
      "outputs": []
    },
    {
      "cell_type": "code",
      "source": [
        "classifier.fit(X_train, Y_train, epochs=100, batch_size=16, verbose=0)"
      ],
      "metadata": {
        "colab": {
          "base_uri": "https://localhost:8080/"
        },
        "id": "rk2nLkgEw4sP",
        "outputId": "05fe42b2-0c14-4047-d3b3-06ac37701e02"
      },
      "execution_count": 105,
      "outputs": [
        {
          "output_type": "execute_result",
          "data": {
            "text/plain": [
              "<keras.callbacks.History at 0x7efffaf153c0>"
            ]
          },
          "metadata": {},
          "execution_count": 105
        }
      ]
    },
    {
      "cell_type": "code",
      "source": [
        "# Evaluate the model on the testing set\n",
        "loss, accuracy = classifier.evaluate(X_test, Y_test, verbose=0)\n",
        "print(f'Test loss: {loss:.4f}\\nTest accuracy: {accuracy:.4f}')"
      ],
      "metadata": {
        "colab": {
          "base_uri": "https://localhost:8080/"
        },
        "id": "QQXZnpAaxKvr",
        "outputId": "92895fc7-f899-4d2f-a6a0-5ef1be06e313"
      },
      "execution_count": 106,
      "outputs": [
        {
          "output_type": "stream",
          "name": "stdout",
          "text": [
            "Test loss: 0.3800\n",
            "Test accuracy: 0.8205\n"
          ]
        }
      ]
    },
    {
      "cell_type": "code",
      "source": [
        "from tensorflow.keras.utils import plot_model\n",
        "plot_model(classifier,\n",
        "           to_file=\"/content/drive/MyDrive/My project/model.png\",\n",
        "           show_shapes=True,\n",
        "           show_layer_names=True,\n",
        "          )"
      ],
      "metadata": {
        "id": "wXvxCTxpW5PE",
        "colab": {
          "base_uri": "https://localhost:8080/",
          "height": 422
        },
        "outputId": "4b8d0d52-df2c-42f1-e7f0-1849580405b0"
      },
      "execution_count": 107,
      "outputs": [
        {
          "output_type": "execute_result",
          "data": {
            "image/png": "[encoded data removed]",
            "text/plain": [
              "<IPython.core.display.Image object>"
            ]
          },
          "metadata": {},
          "execution_count": 107
        }
      ]
    },
    {
      "cell_type": "markdown",
      "metadata": {
        "id": "UhbDfbKrYZj2"
      },
      "source": [
        "##Model Evaluation"
      ]
    },
    {
      "cell_type": "markdown",
      "source": [
        "###Confusion Matrix"
      ],
      "metadata": {
        "id": "JvaC664cYZj2"
      }
    },
    {
      "cell_type": "code",
      "source": [
        "from sklearn.metrics import confusion_matrix\n",
        "y_pred_ann = classifier.predict(X_test)\n",
        "cf_matrix_ann = confusion_matrix(Y_test, y_pred_ann.round())"
      ],
      "metadata": {
        "id": "OYeQwEWNYZj2",
        "colab": {
          "base_uri": "https://localhost:8080/"
        },
        "outputId": "66d0e29a-0b59-4e1e-d52c-c6ec96c3cc63"
      },
      "execution_count": 108,
      "outputs": [
        {
          "output_type": "stream",
          "name": "stdout",
          "text": [
            "2/2 [==============================] - 0s 5ms/step\n"
          ]
        }
      ]
    },
    {
      "cell_type": "code",
      "source": [
        "cf_matrix_ann"
      ],
      "metadata": {
        "id": "3Wg6eFvrYZj2",
        "colab": {
          "base_uri": "https://localhost:8080/"
        },
        "outputId": "a9613085-b3ea-4a2f-b5d5-4fa950830789"
      },
      "execution_count": 109,
      "outputs": [
        {
          "output_type": "execute_result",
          "data": {
            "text/plain": [
              "array([[ 4,  4],\n",
              "       [ 3, 28]])"
            ]
          },
          "metadata": {},
          "execution_count": 109
        }
      ]
    },
    {
      "cell_type": "code",
      "source": [
        "import seaborn as sns\n",
        "sns.heatmap(cf_matrix_ann, annot=True)"
      ],
      "metadata": {
        "id": "okTPtAtaYZj3",
        "colab": {
          "base_uri": "https://localhost:8080/",
          "height": 451
        },
        "outputId": "58e1af04-b0df-4c8b-bca3-1b8cf637a39c"
      },
      "execution_count": 110,
      "outputs": [
        {
          "output_type": "execute_result",
          "data": {
            "text/plain": [
              "<Axes: >"
            ]
          },
          "metadata": {},
          "execution_count": 110
        },
        {
          "output_type": "display_data",
          "data": {
            "text/plain": [
              "<Figure size 640x480 with 2 Axes>"
            ],
            "image/png": "[encoded data removed]"
          },
          "metadata": {}
        }
      ]
    },
    {
      "cell_type": "markdown",
      "metadata": {
        "id": "mJLnRU9mYZj3"
      },
      "source": [
        "###Accuracy Score"
      ]
    },
    {
      "cell_type": "code",
      "metadata": {
        "id": "FO8csUCqYZj3",
        "colab": {
          "base_uri": "https://localhost:8080/"
        },
        "outputId": "36698971-9005-4402-c724-21c3dcbba132"
      },
      "source": [
        "from sklearn.metrics import classification_report as cr\n",
        "# accuracy score on training data\n",
        "print('The Testing accuracy is : ', accuracy_score(Y_test, y_pred_ann.round()))\n",
        "print(cr(Y_test, y_pred_ann.round()))\n"
      ],
      "execution_count": 111,
      "outputs": [
        {
          "output_type": "stream",
          "name": "stdout",
          "text": [
            "The Testing accuracy is :  0.8205128205128205\n",
            "              precision    recall  f1-score   support\n",
            "\n",
            "           0       0.57      0.50      0.53         8\n",
            "           1       0.88      0.90      0.89        31\n",
            "\n",
            "    accuracy                           0.82        39\n",
            "   macro avg       0.72      0.70      0.71        39\n",
            "weighted avg       0.81      0.82      0.82        39\n",
            "\n"
          ]
        }
      ]
    },
    {
      "cell_type": "markdown",
      "metadata": {
        "id": "QlR4JG4YMfOR"
      },
      "source": [
        "#Building a Predictive System"
      ]
    },
    {
      "cell_type": "markdown",
      "source": [
        "##Using Support Vector Machine"
      ],
      "metadata": {
        "id": "q0SEldosb14m"
      }
    },
    {
      "cell_type": "code",
      "metadata": {
        "id": "w0FjSoO1MGBU",
        "colab": {
          "base_uri": "https://localhost:8080/"
        },
        "outputId": "c1be4e3f-e734-4b84-93e8-039a6e96c713"
      },
      "source": [
        "input_data = (162.56800,198.34600,77.63000,0.00502,0.00003,0.00280,0.00253,0.00841,0.01791,0.16800,0.00793,0.01057,0.01799,0.02380,0.01170,25.67800,0.427785,0.723797,-6.635729,0.209866,1.957961,0.135242)\n",
        "# changing input data to a numpy array\n",
        "input_data_as_numpy_array = np.asarray(input_data)\n",
        "\n",
        "# reshape the numpy array\n",
        "input_data_reshaped = input_data_as_numpy_array.reshape(1,-1)\n",
        "\n",
        "# standardize the data\n",
        "std_data = scaler.transform(input_data_reshaped)\n",
        "\n",
        "prediction = model.predict(std_data)\n",
        "print(prediction)\n",
        "\n",
        "\n",
        "if (prediction[0] == 0).all():\n",
        "  print(\"The Person does not have Parkinsons Disease\")\n",
        "\n",
        "else:\n",
        "\n",
        "  print(\"The Person has Parkinsons\")\n"
      ],
      "execution_count": 112,
      "outputs": [
        {
          "output_type": "stream",
          "name": "stdout",
          "text": [
            "[1]\n",
            "The Person has Parkinsons\n"
          ]
        }
      ]
    },
    {
      "cell_type": "markdown",
      "source": [
        "## Using Convolutional Neural Networks"
      ],
      "metadata": {
        "id": "wFp37gTy7imQ"
      }
    },
    {
      "cell_type": "code",
      "metadata": {
        "colab": {
          "base_uri": "https://localhost:8080/"
        },
        "outputId": "e8aba0b0-1351-4c8b-da27-0511b127b18f",
        "id": "XY8S2Rv-7imR"
      },
      "source": [
        "new_data = np.array([162.56800,198.34600,77.63000,0.00502,0.00003,0.00280,0.00253,0.00841,0.01791,0.16800,0.00793,0.01057,0.01799,0.02380,0.01170,25.67800,0.427785,0.723797,-6.635729,0.209866,1.957961,0.135242]).reshape(1, -1, 1)\n",
        "new_data = scaler.transform(new_data.reshape(new_data.shape[0], new_data.shape[1]))\n",
        "prediction = cnn_model.predict(new_data).round()\n",
        "print(f'Prediction: {prediction[0][0]:.4f}')\n",
        "\n",
        "if (prediction[0][0] == 0).all():\n",
        "  print(\"The Person does not have Parkinsons Disease\")\n",
        "\n",
        "else:\n",
        "  print(\"The Person has Parkinsons\")\n"
      ],
      "execution_count": 132,
      "outputs": [
        {
          "output_type": "stream",
          "name": "stdout",
          "text": [
            "1/1 [==============================] - 0s 27ms/step\n",
            "Prediction: 0.0000\n",
            "The Person does not have Parkinsons Disease\n"
          ]
        }
      ]
    },
    {
      "cell_type": "markdown",
      "source": [
        "##Using Advanced Neural Networks"
      ],
      "metadata": {
        "id": "R5pxJwP_emQ4"
      }
    },
    {
      "cell_type": "code",
      "source": [
        "new_data = np.array([162.56800,198.34600,77.63000,0.00502,0.00003,0.00280,0.00253,0.00841,0.01791,0.16800,0.00793,0.01057,0.01799,0.02380,0.01170,25.67800,0.427785,0.723797,-6.635729,0.209866,1.957961,0.135242]).reshape(1, -1)\n",
        "new_data = scaler.transform(new_data)\n",
        "prediction = classifier.predict(new_data).round()\n",
        "print(f'Prediction: {prediction[0][0]:.4f}')\n",
        "\n",
        "if (prediction[0][0] == 0).all():\n",
        "  print(\"The Person does not have Parkinsons Disease\")\n",
        "\n",
        "else:\n",
        "  print(\"The Person has Parkinsons\")\n"
      ],
      "metadata": {
        "colab": {
          "base_uri": "https://localhost:8080/"
        },
        "id": "FQda_-3-xWqJ",
        "outputId": "0f5e009c-8c2e-4470-c057-c51e91e8d2c9"
      },
      "execution_count": 128,
      "outputs": [
        {
          "output_type": "stream",
          "name": "stdout",
          "text": [
            "1/1 [==============================] - 0s 26ms/step\n",
            "Prediction: 1.0000\n",
            "The Person has Parkinsons\n"
          ]
        }
      ]
    }
  ]
}